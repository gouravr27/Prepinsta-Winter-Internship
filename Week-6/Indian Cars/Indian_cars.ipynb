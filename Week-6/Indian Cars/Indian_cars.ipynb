{
  "cells": [
    {
      "cell_type": "code",
      "execution_count": null,
      "metadata": {
        "id": "0L43yw9mBfFK"
      },
      "outputs": [],
      "source": [
        "import numpy as np\n",
        "import pandas as pd\n",
        "import seaborn as sns\n",
        "import matplotlib.pyplot as plt"
      ]
    },
    {
      "cell_type": "code",
      "execution_count": null,
      "metadata": {
        "id": "wOyJB77pDHXV"
      },
      "outputs": [],
      "source": [
        "car=pd.read_csv(\"/content/cars_ds_final.csv\",index_col=0)"
      ]
    },
    {
      "cell_type": "code",
      "execution_count": null,
      "metadata": {
        "colab": {
          "base_uri": "https://localhost:8080/"
        },
        "id": "FUhvv2TEGpUT",
        "outputId": "665e7afd-ca21-4695-b5de-82ec35992d4d"
      },
      "outputs": [
        {
          "data": {
            "text/plain": [
              "(1276, 140)"
            ]
          },
          "execution_count": 740,
          "metadata": {},
          "output_type": "execute_result"
        }
      ],
      "source": [
        "car.shape"
      ]
    },
    {
      "cell_type": "code",
      "execution_count": null,
      "metadata": {
        "colab": {
          "base_uri": "https://localhost:8080/",
          "height": 446
        },
        "id": "KBTsUSpaDTHV",
        "outputId": "2dbdcfce-9c7e-420c-b351-4c81eef5de22"
      },
      "outputs": [
        {
          "data": {
            "text/html": [
              "\n",
              "  <div id=\"df-03a499a9-a7d9-4273-9821-ae7e22f8e882\" class=\"colab-df-container\">\n",
              "    <div>\n",
              "<style scoped>\n",
              "    .dataframe tbody tr th:only-of-type {\n",
              "        vertical-align: middle;\n",
              "    }\n",
              "\n",
              "    .dataframe tbody tr th {\n",
              "        vertical-align: top;\n",
              "    }\n",
              "\n",
              "    .dataframe thead th {\n",
              "        text-align: right;\n",
              "    }\n",
              "</style>\n",
              "<table border=\"1\" class=\"dataframe\">\n",
              "  <thead>\n",
              "    <tr style=\"text-align: right;\">\n",
              "      <th></th>\n",
              "      <th>Make</th>\n",
              "      <th>Model</th>\n",
              "      <th>Variant</th>\n",
              "      <th>Ex-Showroom_Price</th>\n",
              "      <th>Displacement</th>\n",
              "      <th>Cylinders</th>\n",
              "      <th>Valves_Per_Cylinder</th>\n",
              "      <th>Drivetrain</th>\n",
              "      <th>Cylinder_Configuration</th>\n",
              "      <th>Emission_Norm</th>\n",
              "      <th>...</th>\n",
              "      <th>Leather_Wrapped_Steering</th>\n",
              "      <th>Automatic_Headlamps</th>\n",
              "      <th>Engine_Type</th>\n",
              "      <th>ASR_/_Traction_Control</th>\n",
              "      <th>Cruise_Control</th>\n",
              "      <th>USB_Ports</th>\n",
              "      <th>Heads-Up_Display</th>\n",
              "      <th>Welcome_Lights</th>\n",
              "      <th>Battery</th>\n",
              "      <th>Electric_Range</th>\n",
              "    </tr>\n",
              "  </thead>\n",
              "  <tbody>\n",
              "    <tr>\n",
              "      <th>0</th>\n",
              "      <td>Tata</td>\n",
              "      <td>Nano Genx</td>\n",
              "      <td>Xt</td>\n",
              "      <td>Rs. 2,92,667</td>\n",
              "      <td>624 cc</td>\n",
              "      <td>2.0</td>\n",
              "      <td>2.0</td>\n",
              "      <td>RWD (Rear Wheel Drive)</td>\n",
              "      <td>In-line</td>\n",
              "      <td>BS IV</td>\n",
              "      <td>...</td>\n",
              "      <td>NaN</td>\n",
              "      <td>NaN</td>\n",
              "      <td>NaN</td>\n",
              "      <td>NaN</td>\n",
              "      <td>NaN</td>\n",
              "      <td>NaN</td>\n",
              "      <td>NaN</td>\n",
              "      <td>NaN</td>\n",
              "      <td>NaN</td>\n",
              "      <td>NaN</td>\n",
              "    </tr>\n",
              "    <tr>\n",
              "      <th>1</th>\n",
              "      <td>Tata</td>\n",
              "      <td>Nano Genx</td>\n",
              "      <td>Xe</td>\n",
              "      <td>Rs. 2,36,447</td>\n",
              "      <td>624 cc</td>\n",
              "      <td>2.0</td>\n",
              "      <td>2.0</td>\n",
              "      <td>RWD (Rear Wheel Drive)</td>\n",
              "      <td>In-line</td>\n",
              "      <td>BS IV</td>\n",
              "      <td>...</td>\n",
              "      <td>NaN</td>\n",
              "      <td>NaN</td>\n",
              "      <td>NaN</td>\n",
              "      <td>NaN</td>\n",
              "      <td>NaN</td>\n",
              "      <td>NaN</td>\n",
              "      <td>NaN</td>\n",
              "      <td>NaN</td>\n",
              "      <td>NaN</td>\n",
              "      <td>NaN</td>\n",
              "    </tr>\n",
              "    <tr>\n",
              "      <th>2</th>\n",
              "      <td>Tata</td>\n",
              "      <td>Nano Genx</td>\n",
              "      <td>Emax Xm</td>\n",
              "      <td>Rs. 2,96,661</td>\n",
              "      <td>624 cc</td>\n",
              "      <td>2.0</td>\n",
              "      <td>2.0</td>\n",
              "      <td>RWD (Rear Wheel Drive)</td>\n",
              "      <td>In-line</td>\n",
              "      <td>BS IV</td>\n",
              "      <td>...</td>\n",
              "      <td>NaN</td>\n",
              "      <td>NaN</td>\n",
              "      <td>NaN</td>\n",
              "      <td>NaN</td>\n",
              "      <td>NaN</td>\n",
              "      <td>NaN</td>\n",
              "      <td>NaN</td>\n",
              "      <td>NaN</td>\n",
              "      <td>NaN</td>\n",
              "      <td>NaN</td>\n",
              "    </tr>\n",
              "    <tr>\n",
              "      <th>3</th>\n",
              "      <td>Tata</td>\n",
              "      <td>Nano Genx</td>\n",
              "      <td>Xta</td>\n",
              "      <td>Rs. 3,34,768</td>\n",
              "      <td>624 cc</td>\n",
              "      <td>2.0</td>\n",
              "      <td>2.0</td>\n",
              "      <td>RWD (Rear Wheel Drive)</td>\n",
              "      <td>In-line</td>\n",
              "      <td>BS IV</td>\n",
              "      <td>...</td>\n",
              "      <td>NaN</td>\n",
              "      <td>NaN</td>\n",
              "      <td>NaN</td>\n",
              "      <td>NaN</td>\n",
              "      <td>NaN</td>\n",
              "      <td>NaN</td>\n",
              "      <td>NaN</td>\n",
              "      <td>NaN</td>\n",
              "      <td>NaN</td>\n",
              "      <td>NaN</td>\n",
              "    </tr>\n",
              "    <tr>\n",
              "      <th>4</th>\n",
              "      <td>Tata</td>\n",
              "      <td>Nano Genx</td>\n",
              "      <td>Xm</td>\n",
              "      <td>Rs. 2,72,223</td>\n",
              "      <td>624 cc</td>\n",
              "      <td>2.0</td>\n",
              "      <td>2.0</td>\n",
              "      <td>RWD (Rear Wheel Drive)</td>\n",
              "      <td>In-line</td>\n",
              "      <td>BS IV</td>\n",
              "      <td>...</td>\n",
              "      <td>NaN</td>\n",
              "      <td>NaN</td>\n",
              "      <td>NaN</td>\n",
              "      <td>NaN</td>\n",
              "      <td>NaN</td>\n",
              "      <td>NaN</td>\n",
              "      <td>NaN</td>\n",
              "      <td>NaN</td>\n",
              "      <td>NaN</td>\n",
              "      <td>NaN</td>\n",
              "    </tr>\n",
              "  </tbody>\n",
              "</table>\n",
              "<p>5 rows × 140 columns</p>\n",
              "</div>\n",
              "    <div class=\"colab-df-buttons\">\n",
              "\n",
              "  <div class=\"colab-df-container\">\n",
              "    <button class=\"colab-df-convert\" onclick=\"convertToInteractive('df-03a499a9-a7d9-4273-9821-ae7e22f8e882')\"\n",
              "            title=\"Convert this dataframe to an interactive table.\"\n",
              "            style=\"display:none;\">\n",
              "\n",
              "  <svg xmlns=\"http://www.w3.org/2000/svg\" height=\"24px\" viewBox=\"0 -960 960 960\">\n",
              "    <path d=\"M120-120v-720h720v720H120Zm60-500h600v-160H180v160Zm220 220h160v-160H400v160Zm0 220h160v-160H400v160ZM180-400h160v-160H180v160Zm440 0h160v-160H620v160ZM180-180h160v-160H180v160Zm440 0h160v-160H620v160Z\"/>\n",
              "  </svg>\n",
              "    </button>\n",
              "\n",
              "  <style>\n",
              "    .colab-df-container {\n",
              "      display:flex;\n",
              "      gap: 12px;\n",
              "    }\n",
              "\n",
              "    .colab-df-convert {\n",
              "      background-color: #E8F0FE;\n",
              "      border: none;\n",
              "      border-radius: 50%;\n",
              "      cursor: pointer;\n",
              "      display: none;\n",
              "      fill: #1967D2;\n",
              "      height: 32px;\n",
              "      padding: 0 0 0 0;\n",
              "      width: 32px;\n",
              "    }\n",
              "\n",
              "    .colab-df-convert:hover {\n",
              "      background-color: #E2EBFA;\n",
              "      box-shadow: 0px 1px 2px rgba(60, 64, 67, 0.3), 0px 1px 3px 1px rgba(60, 64, 67, 0.15);\n",
              "      fill: #174EA6;\n",
              "    }\n",
              "\n",
              "    .colab-df-buttons div {\n",
              "      margin-bottom: 4px;\n",
              "    }\n",
              "\n",
              "    [theme=dark] .colab-df-convert {\n",
              "      background-color: #3B4455;\n",
              "      fill: #D2E3FC;\n",
              "    }\n",
              "\n",
              "    [theme=dark] .colab-df-convert:hover {\n",
              "      background-color: #434B5C;\n",
              "      box-shadow: 0px 1px 3px 1px rgba(0, 0, 0, 0.15);\n",
              "      filter: drop-shadow(0px 1px 2px rgba(0, 0, 0, 0.3));\n",
              "      fill: #FFFFFF;\n",
              "    }\n",
              "  </style>\n",
              "\n",
              "    <script>\n",
              "      const buttonEl =\n",
              "        document.querySelector('#df-03a499a9-a7d9-4273-9821-ae7e22f8e882 button.colab-df-convert');\n",
              "      buttonEl.style.display =\n",
              "        google.colab.kernel.accessAllowed ? 'block' : 'none';\n",
              "\n",
              "      async function convertToInteractive(key) {\n",
              "        const element = document.querySelector('#df-03a499a9-a7d9-4273-9821-ae7e22f8e882');\n",
              "        const dataTable =\n",
              "          await google.colab.kernel.invokeFunction('convertToInteractive',\n",
              "                                                    [key], {});\n",
              "        if (!dataTable) return;\n",
              "\n",
              "        const docLinkHtml = 'Like what you see? Visit the ' +\n",
              "          '<a target=\"_blank\" href=https://colab.research.google.com/notebooks/data_table.ipynb>data table notebook</a>'\n",
              "          + ' to learn more about interactive tables.';\n",
              "        element.innerHTML = '';\n",
              "        dataTable['output_type'] = 'display_data';\n",
              "        await google.colab.output.renderOutput(dataTable, element);\n",
              "        const docLink = document.createElement('div');\n",
              "        docLink.innerHTML = docLinkHtml;\n",
              "        element.appendChild(docLink);\n",
              "      }\n",
              "    </script>\n",
              "  </div>\n",
              "\n",
              "\n",
              "<div id=\"df-d983f3e3-2a20-4040-90ed-2419ccc107d5\">\n",
              "  <button class=\"colab-df-quickchart\" onclick=\"quickchart('df-d983f3e3-2a20-4040-90ed-2419ccc107d5')\"\n",
              "            title=\"Suggest charts\"\n",
              "            style=\"display:none;\">\n",
              "\n",
              "<svg xmlns=\"http://www.w3.org/2000/svg\" height=\"24px\"viewBox=\"0 0 24 24\"\n",
              "     width=\"24px\">\n",
              "    <g>\n",
              "        <path d=\"M19 3H5c-1.1 0-2 .9-2 2v14c0 1.1.9 2 2 2h14c1.1 0 2-.9 2-2V5c0-1.1-.9-2-2-2zM9 17H7v-7h2v7zm4 0h-2V7h2v10zm4 0h-2v-4h2v4z\"/>\n",
              "    </g>\n",
              "</svg>\n",
              "  </button>\n",
              "\n",
              "<style>\n",
              "  .colab-df-quickchart {\n",
              "      --bg-color: #E8F0FE;\n",
              "      --fill-color: #1967D2;\n",
              "      --hover-bg-color: #E2EBFA;\n",
              "      --hover-fill-color: #174EA6;\n",
              "      --disabled-fill-color: #AAA;\n",
              "      --disabled-bg-color: #DDD;\n",
              "  }\n",
              "\n",
              "  [theme=dark] .colab-df-quickchart {\n",
              "      --bg-color: #3B4455;\n",
              "      --fill-color: #D2E3FC;\n",
              "      --hover-bg-color: #434B5C;\n",
              "      --hover-fill-color: #FFFFFF;\n",
              "      --disabled-bg-color: #3B4455;\n",
              "      --disabled-fill-color: #666;\n",
              "  }\n",
              "\n",
              "  .colab-df-quickchart {\n",
              "    background-color: var(--bg-color);\n",
              "    border: none;\n",
              "    border-radius: 50%;\n",
              "    cursor: pointer;\n",
              "    display: none;\n",
              "    fill: var(--fill-color);\n",
              "    height: 32px;\n",
              "    padding: 0;\n",
              "    width: 32px;\n",
              "  }\n",
              "\n",
              "  .colab-df-quickchart:hover {\n",
              "    background-color: var(--hover-bg-color);\n",
              "    box-shadow: 0 1px 2px rgba(60, 64, 67, 0.3), 0 1px 3px 1px rgba(60, 64, 67, 0.15);\n",
              "    fill: var(--button-hover-fill-color);\n",
              "  }\n",
              "\n",
              "  .colab-df-quickchart-complete:disabled,\n",
              "  .colab-df-quickchart-complete:disabled:hover {\n",
              "    background-color: var(--disabled-bg-color);\n",
              "    fill: var(--disabled-fill-color);\n",
              "    box-shadow: none;\n",
              "  }\n",
              "\n",
              "  .colab-df-spinner {\n",
              "    border: 2px solid var(--fill-color);\n",
              "    border-color: transparent;\n",
              "    border-bottom-color: var(--fill-color);\n",
              "    animation:\n",
              "      spin 1s steps(1) infinite;\n",
              "  }\n",
              "\n",
              "  @keyframes spin {\n",
              "    0% {\n",
              "      border-color: transparent;\n",
              "      border-bottom-color: var(--fill-color);\n",
              "      border-left-color: var(--fill-color);\n",
              "    }\n",
              "    20% {\n",
              "      border-color: transparent;\n",
              "      border-left-color: var(--fill-color);\n",
              "      border-top-color: var(--fill-color);\n",
              "    }\n",
              "    30% {\n",
              "      border-color: transparent;\n",
              "      border-left-color: var(--fill-color);\n",
              "      border-top-color: var(--fill-color);\n",
              "      border-right-color: var(--fill-color);\n",
              "    }\n",
              "    40% {\n",
              "      border-color: transparent;\n",
              "      border-right-color: var(--fill-color);\n",
              "      border-top-color: var(--fill-color);\n",
              "    }\n",
              "    60% {\n",
              "      border-color: transparent;\n",
              "      border-right-color: var(--fill-color);\n",
              "    }\n",
              "    80% {\n",
              "      border-color: transparent;\n",
              "      border-right-color: var(--fill-color);\n",
              "      border-bottom-color: var(--fill-color);\n",
              "    }\n",
              "    90% {\n",
              "      border-color: transparent;\n",
              "      border-bottom-color: var(--fill-color);\n",
              "    }\n",
              "  }\n",
              "</style>\n",
              "\n",
              "  <script>\n",
              "    async function quickchart(key) {\n",
              "      const quickchartButtonEl =\n",
              "        document.querySelector('#' + key + ' button');\n",
              "      quickchartButtonEl.disabled = true;  // To prevent multiple clicks.\n",
              "      quickchartButtonEl.classList.add('colab-df-spinner');\n",
              "      try {\n",
              "        const charts = await google.colab.kernel.invokeFunction(\n",
              "            'suggestCharts', [key], {});\n",
              "      } catch (error) {\n",
              "        console.error('Error during call to suggestCharts:', error);\n",
              "      }\n",
              "      quickchartButtonEl.classList.remove('colab-df-spinner');\n",
              "      quickchartButtonEl.classList.add('colab-df-quickchart-complete');\n",
              "    }\n",
              "    (() => {\n",
              "      let quickchartButtonEl =\n",
              "        document.querySelector('#df-d983f3e3-2a20-4040-90ed-2419ccc107d5 button');\n",
              "      quickchartButtonEl.style.display =\n",
              "        google.colab.kernel.accessAllowed ? 'block' : 'none';\n",
              "    })();\n",
              "  </script>\n",
              "</div>\n",
              "\n",
              "    </div>\n",
              "  </div>\n"
            ],
            "text/plain": [
              "   Make      Model  Variant Ex-Showroom_Price Displacement  Cylinders  \\\n",
              "0  Tata  Nano Genx       Xt      Rs. 2,92,667       624 cc        2.0   \n",
              "1  Tata  Nano Genx       Xe      Rs. 2,36,447       624 cc        2.0   \n",
              "2  Tata  Nano Genx  Emax Xm      Rs. 2,96,661       624 cc        2.0   \n",
              "3  Tata  Nano Genx      Xta      Rs. 3,34,768       624 cc        2.0   \n",
              "4  Tata  Nano Genx       Xm      Rs. 2,72,223       624 cc        2.0   \n",
              "\n",
              "   Valves_Per_Cylinder              Drivetrain Cylinder_Configuration  \\\n",
              "0                  2.0  RWD (Rear Wheel Drive)                In-line   \n",
              "1                  2.0  RWD (Rear Wheel Drive)                In-line   \n",
              "2                  2.0  RWD (Rear Wheel Drive)                In-line   \n",
              "3                  2.0  RWD (Rear Wheel Drive)                In-line   \n",
              "4                  2.0  RWD (Rear Wheel Drive)                In-line   \n",
              "\n",
              "  Emission_Norm  ... Leather_Wrapped_Steering Automatic_Headlamps Engine_Type  \\\n",
              "0         BS IV  ...                      NaN                 NaN         NaN   \n",
              "1         BS IV  ...                      NaN                 NaN         NaN   \n",
              "2         BS IV  ...                      NaN                 NaN         NaN   \n",
              "3         BS IV  ...                      NaN                 NaN         NaN   \n",
              "4         BS IV  ...                      NaN                 NaN         NaN   \n",
              "\n",
              "  ASR_/_Traction_Control Cruise_Control USB_Ports Heads-Up_Display  \\\n",
              "0                    NaN            NaN       NaN              NaN   \n",
              "1                    NaN            NaN       NaN              NaN   \n",
              "2                    NaN            NaN       NaN              NaN   \n",
              "3                    NaN            NaN       NaN              NaN   \n",
              "4                    NaN            NaN       NaN              NaN   \n",
              "\n",
              "  Welcome_Lights  Battery Electric_Range  \n",
              "0            NaN      NaN            NaN  \n",
              "1            NaN      NaN            NaN  \n",
              "2            NaN      NaN            NaN  \n",
              "3            NaN      NaN            NaN  \n",
              "4            NaN      NaN            NaN  \n",
              "\n",
              "[5 rows x 140 columns]"
            ]
          },
          "execution_count": 741,
          "metadata": {},
          "output_type": "execute_result"
        }
      ],
      "source": [
        "car.head()"
      ]
    },
    {
      "cell_type": "markdown",
      "metadata": {
        "id": "B4IgNAI3D0mr"
      },
      "source": [
        "Reading information about data"
      ]
    },
    {
      "cell_type": "code",
      "execution_count": null,
      "metadata": {
        "colab": {
          "base_uri": "https://localhost:8080/"
        },
        "id": "VDeas07hD2Ms",
        "outputId": "8af30840-e444-413a-ab71-d737bb526312"
      },
      "outputs": [
        {
          "name": "stdout",
          "output_type": "stream",
          "text": [
            "<class 'pandas.core.frame.DataFrame'>\n",
            "Int64Index: 1276 entries, 0 to 1275\n",
            "Data columns (total 140 columns):\n",
            " #    Column                                     Dtype  \n",
            "---   ------                                     -----  \n",
            " 0    Make                                       object \n",
            " 1    Model                                      object \n",
            " 2    Variant                                    object \n",
            " 3    Ex-Showroom_Price                          object \n",
            " 4    Displacement                               object \n",
            " 5    Cylinders                                  float64\n",
            " 6    Valves_Per_Cylinder                        float64\n",
            " 7    Drivetrain                                 object \n",
            " 8    Cylinder_Configuration                     object \n",
            " 9    Emission_Norm                              object \n",
            " 10   Engine_Location                            object \n",
            " 11   Fuel_System                                object \n",
            " 12   Fuel_Tank_Capacity                         object \n",
            " 13   Fuel_Type                                  object \n",
            " 14   Height                                     object \n",
            " 15   Length                                     object \n",
            " 16   Width                                      object \n",
            " 17   Body_Type                                  object \n",
            " 18   Doors                                      float64\n",
            " 19   City_Mileage                               object \n",
            " 20   Highway_Mileage                            object \n",
            " 21   ARAI_Certified_Mileage                     object \n",
            " 22   ARAI_Certified_Mileage_for_CNG             object \n",
            " 23   Kerb_Weight                                object \n",
            " 24   Gears                                      object \n",
            " 25   Ground_Clearance                           object \n",
            " 26   Front_Brakes                               object \n",
            " 27   Rear_Brakes                                object \n",
            " 28   Front_Suspension                           object \n",
            " 29   Rear_Suspension                            object \n",
            " 30   Front_Track                                object \n",
            " 31   Rear_Track                                 object \n",
            " 32   Front_Tyre_&_Rim                           object \n",
            " 33   Rear_Tyre_&_Rim                            object \n",
            " 34   Power_Steering                             object \n",
            " 35   Power_Windows                              object \n",
            " 36   Power_Seats                                object \n",
            " 37   Keyless_Entry                              object \n",
            " 38   Power                                      object \n",
            " 39   Torque                                     object \n",
            " 40   Odometer                                   object \n",
            " 41   Speedometer                                object \n",
            " 42   Tachometer                                 object \n",
            " 43   Tripmeter                                  object \n",
            " 44   Seating_Capacity                           float64\n",
            " 45   Seats_Material                             object \n",
            " 46   Type                                       object \n",
            " 47   Wheelbase                                  object \n",
            " 48   Wheels_Size                                object \n",
            " 49   Start_/_Stop_Button                        object \n",
            " 50   12v_Power_Outlet                           object \n",
            " 51   Audiosystem                                object \n",
            " 52   Aux-in_Compatibility                       object \n",
            " 53   Average_Fuel_Consumption                   object \n",
            " 54   Basic_Warranty                             object \n",
            " 55   Bluetooth                                  object \n",
            " 56   Boot-lid_Opener                            object \n",
            " 57   Boot_Space                                 object \n",
            " 58   CD_/_MP3_/_DVD_Player                      object \n",
            " 59   Central_Locking                            object \n",
            " 60   Child_Safety_Locks                         object \n",
            " 61   Clock                                      object \n",
            " 62   Cup_Holders                                object \n",
            " 63   Distance_to_Empty                          object \n",
            " 64   Door_Pockets                               object \n",
            " 65   Engine_Malfunction_Light                   object \n",
            " 66   Extended_Warranty                          object \n",
            " 67   FM_Radio                                   object \n",
            " 68   Fuel-lid_Opener                            object \n",
            " 69   Fuel_Gauge                                 object \n",
            " 70   Handbrake                                  object \n",
            " 71   Instrument_Console                         object \n",
            " 72   Low_Fuel_Warning                           object \n",
            " 73   Minimum_Turning_Radius                     object \n",
            " 74   Multifunction_Display                      object \n",
            " 75   Sun_Visor                                  object \n",
            " 76   Third_Row_AC_Vents                         object \n",
            " 77   Ventilation_System                         object \n",
            " 78   Auto-Dimming_Rear-View_Mirror              object \n",
            " 79   Hill_Assist                                object \n",
            " 80   Gear_Indicator                             object \n",
            " 81   3_Point_Seat-Belt_in_Middle_Rear_Seat      object \n",
            " 82   Ambient_Lightning                          object \n",
            " 83   Cargo/Boot_Lights                          object \n",
            " 84   Drive_Modes                                object \n",
            " 85   Engine_Immobilizer                         object \n",
            " 86   High_Speed_Alert_System                    object \n",
            " 87   Lane_Watch_Camera/_Side_Mirror_Camera      object \n",
            " 88   Passenger_Side_Seat-Belt_Reminder          object \n",
            " 89   Seat_Back_Pockets                          object \n",
            " 90   Voice_Recognition                          object \n",
            " 91   Walk_Away_Auto_Car_Lock                    object \n",
            " 92   ABS_(Anti-lock_Braking_System)             object \n",
            " 93   Headlight_Reminder                         object \n",
            " 94   Adjustable_Headrests                       object \n",
            " 95   Gross_Vehicle_Weight                       object \n",
            " 96   Airbags                                    object \n",
            " 97   Door_Ajar_Warning                          object \n",
            " 98   EBD_(Electronic_Brake-force_Distribution)  object \n",
            " 99   Fasten_Seat_Belt_Warning                   object \n",
            " 100  Gear_Shift_Reminder                        object \n",
            " 101  Number_of_Airbags                          float64\n",
            " 102  Compression_Ratio                          object \n",
            " 103  Adjustable_Steering_Column                 object \n",
            " 104  Other_Specs                                object \n",
            " 105  Other_specs                                object \n",
            " 106  Parking_Assistance                         object \n",
            " 107  Key_Off_Reminder                           object \n",
            " 108  USB_Compatibility                          object \n",
            " 109  Android_Auto                               object \n",
            " 110  Apple_CarPlay                              object \n",
            " 111  Cigarette_Lighter                          object \n",
            " 112  Infotainment_Screen                        object \n",
            " 113  Multifunction_Steering_Wheel               object \n",
            " 114  Average_Speed                              object \n",
            " 115  EBA_(Electronic_Brake_Assist)              object \n",
            " 116  Seat_Height_Adjustment                     object \n",
            " 117  Navigation_System                          object \n",
            " 118  Second_Row_AC_Vents                        object \n",
            " 119  Tyre_Pressure_Monitoring_System            object \n",
            " 120  Rear_Center_Armrest                        object \n",
            " 121  iPod_Compatibility                         object \n",
            " 122  ESP_(Electronic_Stability_Program)         object \n",
            " 123  Cooled_Glove_Box                           object \n",
            " 124  Recommended_Tyre_Pressure                  object \n",
            " 125  Heated_Seats                               object \n",
            " 126  Turbocharger                               object \n",
            " 127  ISOFIX_(Child-Seat_Mount)                  object \n",
            " 128  Rain_Sensing_Wipers                        object \n",
            " 129  Paddle_Shifters                            object \n",
            " 130  Leather_Wrapped_Steering                   object \n",
            " 131  Automatic_Headlamps                        object \n",
            " 132  Engine_Type                                object \n",
            " 133  ASR_/_Traction_Control                     object \n",
            " 134  Cruise_Control                             object \n",
            " 135  USB_Ports                                  float64\n",
            " 136  Heads-Up_Display                           object \n",
            " 137  Welcome_Lights                             object \n",
            " 138  Battery                                    object \n",
            " 139  Electric_Range                             object \n",
            "dtypes: float64(6), object(134)\n",
            "memory usage: 1.4+ MB\n"
          ]
        }
      ],
      "source": [
        "car.info(verbose=True)"
      ]
    },
    {
      "cell_type": "code",
      "execution_count": null,
      "metadata": {
        "colab": {
          "base_uri": "https://localhost:8080/"
        },
        "id": "x7-av6WrD9fq",
        "outputId": "5ca5c359-96bc-4baf-b2b4-ff0f2a82d937"
      },
      "outputs": [
        {
          "data": {
            "text/plain": [
              "Index(['Make', 'Model', 'Variant', 'Ex-Showroom_Price', 'Displacement',\n",
              "       'Cylinders', 'Valves_Per_Cylinder', 'Drivetrain',\n",
              "       'Cylinder_Configuration', 'Emission_Norm',\n",
              "       ...\n",
              "       'Leather_Wrapped_Steering', 'Automatic_Headlamps', 'Engine_Type',\n",
              "       'ASR_/_Traction_Control', 'Cruise_Control', 'USB_Ports',\n",
              "       'Heads-Up_Display', 'Welcome_Lights', 'Battery', 'Electric_Range'],\n",
              "      dtype='object', length=140)"
            ]
          },
          "execution_count": 743,
          "metadata": {},
          "output_type": "execute_result"
        }
      ],
      "source": [
        "car.columns"
      ]
    },
    {
      "cell_type": "code",
      "execution_count": null,
      "metadata": {
        "id": "X8wgcMATY2wU"
      },
      "outputs": [],
      "source": [
        "car = car[['Make', 'Model','Variant','Ex-Showroom_Price','Displacement','Seating_Capacity','Cylinders','Fuel_System','Body_Type',\n",
        "           'Fuel_Tank_Capacity','Fuel_Type','Height','Length','Width','City_Mileage','Parking_Assistance','Child_Safety_Locks',\n",
        "           'Seating_Capacity','Basic_Warranty','Number_of_Airbags','Navigation_System']]"
      ]
    },
    {
      "cell_type": "code",
      "execution_count": null,
      "metadata": {
        "colab": {
          "base_uri": "https://localhost:8080/"
        },
        "id": "F2Ea3ulzjCp-",
        "outputId": "67c292b5-be06-466e-f7bd-3a6e57907446"
      },
      "outputs": [
        {
          "data": {
            "text/plain": [
              "Make                   75\n",
              "Model                   0\n",
              "Variant                 0\n",
              "Ex-Showroom_Price       0\n",
              "Displacement           12\n",
              "Seating_Capacity        6\n",
              "Cylinders              66\n",
              "Fuel_System             8\n",
              "Body_Type               6\n",
              "Fuel_Tank_Capacity     69\n",
              "Fuel_Type               0\n",
              "Height                  1\n",
              "Length                  0\n",
              "Width                  12\n",
              "City_Mileage          555\n",
              "Parking_Assistance    290\n",
              "Child_Safety_Locks     75\n",
              "Seating_Capacity        6\n",
              "Basic_Warranty        440\n",
              "Number_of_Airbags     135\n",
              "Navigation_System     593\n",
              "dtype: int64"
            ]
          },
          "execution_count": 745,
          "metadata": {},
          "output_type": "execute_result"
        }
      ],
      "source": [
        "car.isnull().sum()"
      ]
    },
    {
      "cell_type": "markdown",
      "metadata": {
        "id": "HG00N7y9OPoq"
      },
      "source": [
        "# Company Column"
      ]
    },
    {
      "cell_type": "code",
      "execution_count": null,
      "metadata": {
        "id": "qe_MwH04kzYs"
      },
      "outputs": [],
      "source": [
        "car=car.rename(columns={'Make':'Company'})"
      ]
    },
    {
      "cell_type": "code",
      "execution_count": null,
      "metadata": {
        "id": "bFggsp8OCPaq"
      },
      "outputs": [],
      "source": [
        "car['Company'] = car['Company'] +'-'+ car['Model']"
      ]
    },
    {
      "cell_type": "code",
      "execution_count": null,
      "metadata": {
        "id": "VuymhGbfN0xC"
      },
      "outputs": [],
      "source": [
        "car.drop(columns=['Model'], axis=1,inplace=True)"
      ]
    },
    {
      "cell_type": "code",
      "execution_count": null,
      "metadata": {
        "colab": {
          "base_uri": "https://localhost:8080/"
        },
        "id": "LlUdBb1pNuTJ",
        "outputId": "235533ef-ee86-4450-86ec-c1d9ced8659d"
      },
      "outputs": [
        {
          "data": {
            "text/html": [
              "\n",
              "  <div id=\"df-47f55c50-978e-49dd-9ea4-8bc9f070e07e\" class=\"colab-df-container\">\n",
              "    <div>\n",
              "<style scoped>\n",
              "    .dataframe tbody tr th:only-of-type {\n",
              "        vertical-align: middle;\n",
              "    }\n",
              "\n",
              "    .dataframe tbody tr th {\n",
              "        vertical-align: top;\n",
              "    }\n",
              "\n",
              "    .dataframe thead th {\n",
              "        text-align: right;\n",
              "    }\n",
              "</style>\n",
              "<table border=\"1\" class=\"dataframe\">\n",
              "  <thead>\n",
              "    <tr style=\"text-align: right;\">\n",
              "      <th></th>\n",
              "      <th>Company</th>\n",
              "      <th>Variant</th>\n",
              "      <th>Ex-Showroom_Price</th>\n",
              "      <th>Displacement</th>\n",
              "      <th>Seating_Capacity</th>\n",
              "      <th>Cylinders</th>\n",
              "      <th>Fuel_System</th>\n",
              "      <th>Body_Type</th>\n",
              "      <th>Fuel_Tank_Capacity</th>\n",
              "      <th>Fuel_Type</th>\n",
              "      <th>Height</th>\n",
              "      <th>Length</th>\n",
              "      <th>Width</th>\n",
              "      <th>City_Mileage</th>\n",
              "      <th>Parking_Assistance</th>\n",
              "      <th>Child_Safety_Locks</th>\n",
              "      <th>Seating_Capacity</th>\n",
              "      <th>Basic_Warranty</th>\n",
              "      <th>Number_of_Airbags</th>\n",
              "      <th>Navigation_System</th>\n",
              "    </tr>\n",
              "  </thead>\n",
              "  <tbody>\n",
              "    <tr>\n",
              "      <th>0</th>\n",
              "      <td>Tata-Nano Genx</td>\n",
              "      <td>Xt</td>\n",
              "      <td>Rs. 2,92,667</td>\n",
              "      <td>624 cc</td>\n",
              "      <td>4.0</td>\n",
              "      <td>2.0</td>\n",
              "      <td>Injection</td>\n",
              "      <td>Hatchback</td>\n",
              "      <td>24 litres</td>\n",
              "      <td>Petrol</td>\n",
              "      <td>1652 mm</td>\n",
              "      <td>3164 mm</td>\n",
              "      <td>1750 mm</td>\n",
              "      <td>?23.6 km/litre</td>\n",
              "      <td>NaN</td>\n",
              "      <td>Yes</td>\n",
              "      <td>4.0</td>\n",
              "      <td>2 years /75000 Kms (years/distance whichever c...</td>\n",
              "      <td>NaN</td>\n",
              "      <td>NaN</td>\n",
              "    </tr>\n",
              "    <tr>\n",
              "      <th>1</th>\n",
              "      <td>Tata-Nano Genx</td>\n",
              "      <td>Xe</td>\n",
              "      <td>Rs. 2,36,447</td>\n",
              "      <td>624 cc</td>\n",
              "      <td>4.0</td>\n",
              "      <td>2.0</td>\n",
              "      <td>Injection</td>\n",
              "      <td>Hatchback</td>\n",
              "      <td>24 litres</td>\n",
              "      <td>Petrol</td>\n",
              "      <td>1652 mm</td>\n",
              "      <td>3164 mm</td>\n",
              "      <td>1750 mm</td>\n",
              "      <td>?23.6 km/litre</td>\n",
              "      <td>NaN</td>\n",
              "      <td>Yes</td>\n",
              "      <td>4.0</td>\n",
              "      <td>2 years /75000 Kms (years/distance whichever c...</td>\n",
              "      <td>NaN</td>\n",
              "      <td>NaN</td>\n",
              "    </tr>\n",
              "    <tr>\n",
              "      <th>2</th>\n",
              "      <td>Tata-Nano Genx</td>\n",
              "      <td>Emax Xm</td>\n",
              "      <td>Rs. 2,96,661</td>\n",
              "      <td>624 cc</td>\n",
              "      <td>4.0</td>\n",
              "      <td>2.0</td>\n",
              "      <td>Injection</td>\n",
              "      <td>Hatchback</td>\n",
              "      <td>15 litres</td>\n",
              "      <td>CNG</td>\n",
              "      <td>1652 mm</td>\n",
              "      <td>3164 mm</td>\n",
              "      <td>1750 mm</td>\n",
              "      <td>NaN</td>\n",
              "      <td>NaN</td>\n",
              "      <td>Yes</td>\n",
              "      <td>4.0</td>\n",
              "      <td>2 years /75000 Kms (years/distance whichever c...</td>\n",
              "      <td>NaN</td>\n",
              "      <td>NaN</td>\n",
              "    </tr>\n",
              "    <tr>\n",
              "      <th>3</th>\n",
              "      <td>Tata-Nano Genx</td>\n",
              "      <td>Xta</td>\n",
              "      <td>Rs. 3,34,768</td>\n",
              "      <td>624 cc</td>\n",
              "      <td>4.0</td>\n",
              "      <td>2.0</td>\n",
              "      <td>Injection</td>\n",
              "      <td>Hatchback</td>\n",
              "      <td>24 litres</td>\n",
              "      <td>Petrol</td>\n",
              "      <td>1652 mm</td>\n",
              "      <td>3164 mm</td>\n",
              "      <td>1750 mm</td>\n",
              "      <td>?23.6 km/litre</td>\n",
              "      <td>NaN</td>\n",
              "      <td>Yes</td>\n",
              "      <td>4.0</td>\n",
              "      <td>2 years /75000 Kms (years/distance whichever c...</td>\n",
              "      <td>NaN</td>\n",
              "      <td>NaN</td>\n",
              "    </tr>\n",
              "    <tr>\n",
              "      <th>4</th>\n",
              "      <td>Tata-Nano Genx</td>\n",
              "      <td>Xm</td>\n",
              "      <td>Rs. 2,72,223</td>\n",
              "      <td>624 cc</td>\n",
              "      <td>4.0</td>\n",
              "      <td>2.0</td>\n",
              "      <td>Injection</td>\n",
              "      <td>Hatchback</td>\n",
              "      <td>24 litres</td>\n",
              "      <td>Petrol</td>\n",
              "      <td>1652 mm</td>\n",
              "      <td>3164 mm</td>\n",
              "      <td>1750 mm</td>\n",
              "      <td>?23.6 km/litre</td>\n",
              "      <td>NaN</td>\n",
              "      <td>Yes</td>\n",
              "      <td>4.0</td>\n",
              "      <td>2 years /75000 Kms (years/distance whichever c...</td>\n",
              "      <td>NaN</td>\n",
              "      <td>NaN</td>\n",
              "    </tr>\n",
              "  </tbody>\n",
              "</table>\n",
              "</div>\n",
              "    <div class=\"colab-df-buttons\">\n",
              "\n",
              "  <div class=\"colab-df-container\">\n",
              "    <button class=\"colab-df-convert\" onclick=\"convertToInteractive('df-47f55c50-978e-49dd-9ea4-8bc9f070e07e')\"\n",
              "            title=\"Convert this dataframe to an interactive table.\"\n",
              "            style=\"display:none;\">\n",
              "\n",
              "  <svg xmlns=\"http://www.w3.org/2000/svg\" height=\"24px\" viewBox=\"0 -960 960 960\">\n",
              "    <path d=\"M120-120v-720h720v720H120Zm60-500h600v-160H180v160Zm220 220h160v-160H400v160Zm0 220h160v-160H400v160ZM180-400h160v-160H180v160Zm440 0h160v-160H620v160ZM180-180h160v-160H180v160Zm440 0h160v-160H620v160Z\"/>\n",
              "  </svg>\n",
              "    </button>\n",
              "\n",
              "  <style>\n",
              "    .colab-df-container {\n",
              "      display:flex;\n",
              "      gap: 12px;\n",
              "    }\n",
              "\n",
              "    .colab-df-convert {\n",
              "      background-color: #E8F0FE;\n",
              "      border: none;\n",
              "      border-radius: 50%;\n",
              "      cursor: pointer;\n",
              "      display: none;\n",
              "      fill: #1967D2;\n",
              "      height: 32px;\n",
              "      padding: 0 0 0 0;\n",
              "      width: 32px;\n",
              "    }\n",
              "\n",
              "    .colab-df-convert:hover {\n",
              "      background-color: #E2EBFA;\n",
              "      box-shadow: 0px 1px 2px rgba(60, 64, 67, 0.3), 0px 1px 3px 1px rgba(60, 64, 67, 0.15);\n",
              "      fill: #174EA6;\n",
              "    }\n",
              "\n",
              "    .colab-df-buttons div {\n",
              "      margin-bottom: 4px;\n",
              "    }\n",
              "\n",
              "    [theme=dark] .colab-df-convert {\n",
              "      background-color: #3B4455;\n",
              "      fill: #D2E3FC;\n",
              "    }\n",
              "\n",
              "    [theme=dark] .colab-df-convert:hover {\n",
              "      background-color: #434B5C;\n",
              "      box-shadow: 0px 1px 3px 1px rgba(0, 0, 0, 0.15);\n",
              "      filter: drop-shadow(0px 1px 2px rgba(0, 0, 0, 0.3));\n",
              "      fill: #FFFFFF;\n",
              "    }\n",
              "  </style>\n",
              "\n",
              "    <script>\n",
              "      const buttonEl =\n",
              "        document.querySelector('#df-47f55c50-978e-49dd-9ea4-8bc9f070e07e button.colab-df-convert');\n",
              "      buttonEl.style.display =\n",
              "        google.colab.kernel.accessAllowed ? 'block' : 'none';\n",
              "\n",
              "      async function convertToInteractive(key) {\n",
              "        const element = document.querySelector('#df-47f55c50-978e-49dd-9ea4-8bc9f070e07e');\n",
              "        const dataTable =\n",
              "          await google.colab.kernel.invokeFunction('convertToInteractive',\n",
              "                                                    [key], {});\n",
              "        if (!dataTable) return;\n",
              "\n",
              "        const docLinkHtml = 'Like what you see? Visit the ' +\n",
              "          '<a target=\"_blank\" href=https://colab.research.google.com/notebooks/data_table.ipynb>data table notebook</a>'\n",
              "          + ' to learn more about interactive tables.';\n",
              "        element.innerHTML = '';\n",
              "        dataTable['output_type'] = 'display_data';\n",
              "        await google.colab.output.renderOutput(dataTable, element);\n",
              "        const docLink = document.createElement('div');\n",
              "        docLink.innerHTML = docLinkHtml;\n",
              "        element.appendChild(docLink);\n",
              "      }\n",
              "    </script>\n",
              "  </div>\n",
              "\n",
              "\n",
              "<div id=\"df-83a33b55-82b9-46b7-b517-c8cea39b5ca3\">\n",
              "  <button class=\"colab-df-quickchart\" onclick=\"quickchart('df-83a33b55-82b9-46b7-b517-c8cea39b5ca3')\"\n",
              "            title=\"Suggest charts\"\n",
              "            style=\"display:none;\">\n",
              "\n",
              "<svg xmlns=\"http://www.w3.org/2000/svg\" height=\"24px\"viewBox=\"0 0 24 24\"\n",
              "     width=\"24px\">\n",
              "    <g>\n",
              "        <path d=\"M19 3H5c-1.1 0-2 .9-2 2v14c0 1.1.9 2 2 2h14c1.1 0 2-.9 2-2V5c0-1.1-.9-2-2-2zM9 17H7v-7h2v7zm4 0h-2V7h2v10zm4 0h-2v-4h2v4z\"/>\n",
              "    </g>\n",
              "</svg>\n",
              "  </button>\n",
              "\n",
              "<style>\n",
              "  .colab-df-quickchart {\n",
              "      --bg-color: #E8F0FE;\n",
              "      --fill-color: #1967D2;\n",
              "      --hover-bg-color: #E2EBFA;\n",
              "      --hover-fill-color: #174EA6;\n",
              "      --disabled-fill-color: #AAA;\n",
              "      --disabled-bg-color: #DDD;\n",
              "  }\n",
              "\n",
              "  [theme=dark] .colab-df-quickchart {\n",
              "      --bg-color: #3B4455;\n",
              "      --fill-color: #D2E3FC;\n",
              "      --hover-bg-color: #434B5C;\n",
              "      --hover-fill-color: #FFFFFF;\n",
              "      --disabled-bg-color: #3B4455;\n",
              "      --disabled-fill-color: #666;\n",
              "  }\n",
              "\n",
              "  .colab-df-quickchart {\n",
              "    background-color: var(--bg-color);\n",
              "    border: none;\n",
              "    border-radius: 50%;\n",
              "    cursor: pointer;\n",
              "    display: none;\n",
              "    fill: var(--fill-color);\n",
              "    height: 32px;\n",
              "    padding: 0;\n",
              "    width: 32px;\n",
              "  }\n",
              "\n",
              "  .colab-df-quickchart:hover {\n",
              "    background-color: var(--hover-bg-color);\n",
              "    box-shadow: 0 1px 2px rgba(60, 64, 67, 0.3), 0 1px 3px 1px rgba(60, 64, 67, 0.15);\n",
              "    fill: var(--button-hover-fill-color);\n",
              "  }\n",
              "\n",
              "  .colab-df-quickchart-complete:disabled,\n",
              "  .colab-df-quickchart-complete:disabled:hover {\n",
              "    background-color: var(--disabled-bg-color);\n",
              "    fill: var(--disabled-fill-color);\n",
              "    box-shadow: none;\n",
              "  }\n",
              "\n",
              "  .colab-df-spinner {\n",
              "    border: 2px solid var(--fill-color);\n",
              "    border-color: transparent;\n",
              "    border-bottom-color: var(--fill-color);\n",
              "    animation:\n",
              "      spin 1s steps(1) infinite;\n",
              "  }\n",
              "\n",
              "  @keyframes spin {\n",
              "    0% {\n",
              "      border-color: transparent;\n",
              "      border-bottom-color: var(--fill-color);\n",
              "      border-left-color: var(--fill-color);\n",
              "    }\n",
              "    20% {\n",
              "      border-color: transparent;\n",
              "      border-left-color: var(--fill-color);\n",
              "      border-top-color: var(--fill-color);\n",
              "    }\n",
              "    30% {\n",
              "      border-color: transparent;\n",
              "      border-left-color: var(--fill-color);\n",
              "      border-top-color: var(--fill-color);\n",
              "      border-right-color: var(--fill-color);\n",
              "    }\n",
              "    40% {\n",
              "      border-color: transparent;\n",
              "      border-right-color: var(--fill-color);\n",
              "      border-top-color: var(--fill-color);\n",
              "    }\n",
              "    60% {\n",
              "      border-color: transparent;\n",
              "      border-right-color: var(--fill-color);\n",
              "    }\n",
              "    80% {\n",
              "      border-color: transparent;\n",
              "      border-right-color: var(--fill-color);\n",
              "      border-bottom-color: var(--fill-color);\n",
              "    }\n",
              "    90% {\n",
              "      border-color: transparent;\n",
              "      border-bottom-color: var(--fill-color);\n",
              "    }\n",
              "  }\n",
              "</style>\n",
              "\n",
              "  <script>\n",
              "    async function quickchart(key) {\n",
              "      const quickchartButtonEl =\n",
              "        document.querySelector('#' + key + ' button');\n",
              "      quickchartButtonEl.disabled = true;  // To prevent multiple clicks.\n",
              "      quickchartButtonEl.classList.add('colab-df-spinner');\n",
              "      try {\n",
              "        const charts = await google.colab.kernel.invokeFunction(\n",
              "            'suggestCharts', [key], {});\n",
              "      } catch (error) {\n",
              "        console.error('Error during call to suggestCharts:', error);\n",
              "      }\n",
              "      quickchartButtonEl.classList.remove('colab-df-spinner');\n",
              "      quickchartButtonEl.classList.add('colab-df-quickchart-complete');\n",
              "    }\n",
              "    (() => {\n",
              "      let quickchartButtonEl =\n",
              "        document.querySelector('#df-83a33b55-82b9-46b7-b517-c8cea39b5ca3 button');\n",
              "      quickchartButtonEl.style.display =\n",
              "        google.colab.kernel.accessAllowed ? 'block' : 'none';\n",
              "    })();\n",
              "  </script>\n",
              "</div>\n",
              "\n",
              "    </div>\n",
              "  </div>\n"
            ],
            "text/plain": [
              "          Company  Variant Ex-Showroom_Price Displacement  Seating_Capacity  \\\n",
              "0  Tata-Nano Genx       Xt      Rs. 2,92,667       624 cc               4.0   \n",
              "1  Tata-Nano Genx       Xe      Rs. 2,36,447       624 cc               4.0   \n",
              "2  Tata-Nano Genx  Emax Xm      Rs. 2,96,661       624 cc               4.0   \n",
              "3  Tata-Nano Genx      Xta      Rs. 3,34,768       624 cc               4.0   \n",
              "4  Tata-Nano Genx       Xm      Rs. 2,72,223       624 cc               4.0   \n",
              "\n",
              "   Cylinders Fuel_System  Body_Type Fuel_Tank_Capacity Fuel_Type   Height  \\\n",
              "0        2.0   Injection  Hatchback          24 litres    Petrol  1652 mm   \n",
              "1        2.0   Injection  Hatchback          24 litres    Petrol  1652 mm   \n",
              "2        2.0   Injection  Hatchback          15 litres       CNG  1652 mm   \n",
              "3        2.0   Injection  Hatchback          24 litres    Petrol  1652 mm   \n",
              "4        2.0   Injection  Hatchback          24 litres    Petrol  1652 mm   \n",
              "\n",
              "    Length    Width    City_Mileage Parking_Assistance Child_Safety_Locks  \\\n",
              "0  3164 mm  1750 mm  ?23.6 km/litre                NaN                Yes   \n",
              "1  3164 mm  1750 mm  ?23.6 km/litre                NaN                Yes   \n",
              "2  3164 mm  1750 mm             NaN                NaN                Yes   \n",
              "3  3164 mm  1750 mm  ?23.6 km/litre                NaN                Yes   \n",
              "4  3164 mm  1750 mm  ?23.6 km/litre                NaN                Yes   \n",
              "\n",
              "   Seating_Capacity                                     Basic_Warranty  \\\n",
              "0               4.0  2 years /75000 Kms (years/distance whichever c...   \n",
              "1               4.0  2 years /75000 Kms (years/distance whichever c...   \n",
              "2               4.0  2 years /75000 Kms (years/distance whichever c...   \n",
              "3               4.0  2 years /75000 Kms (years/distance whichever c...   \n",
              "4               4.0  2 years /75000 Kms (years/distance whichever c...   \n",
              "\n",
              "   Number_of_Airbags Navigation_System  \n",
              "0                NaN               NaN  \n",
              "1                NaN               NaN  \n",
              "2                NaN               NaN  \n",
              "3                NaN               NaN  \n",
              "4                NaN               NaN  "
            ]
          },
          "execution_count": 749,
          "metadata": {},
          "output_type": "execute_result"
        }
      ],
      "source": [
        "car.head()"
      ]
    },
    {
      "cell_type": "code",
      "execution_count": null,
      "metadata": {
        "colab": {
          "base_uri": "https://localhost:8080/"
        },
        "id": "xSGW-QiTmkt5",
        "outputId": "398bded8-1fa8-4dc3-db44-34e44de7c8a8"
      },
      "outputs": [
        {
          "data": {
            "text/plain": [
              "False    1201\n",
              "True       75\n",
              "Name: Company, dtype: int64"
            ]
          },
          "execution_count": 750,
          "metadata": {},
          "output_type": "execute_result"
        }
      ],
      "source": [
        "car['Company'].isnull().value_counts()"
      ]
    },
    {
      "cell_type": "code",
      "execution_count": null,
      "metadata": {
        "id": "VQhkW3BbnfVU"
      },
      "outputs": [],
      "source": [
        "car=car.dropna(subset=['Company'])"
      ]
    },
    {
      "cell_type": "code",
      "execution_count": null,
      "metadata": {
        "colab": {
          "base_uri": "https://localhost:8080/"
        },
        "id": "SgU1f_aEoIyh",
        "outputId": "4c428b50-e263-4ad7-c23a-d3815e599ee4"
      },
      "outputs": [
        {
          "data": {
            "text/plain": [
              "False    1201\n",
              "Name: Company, dtype: int64"
            ]
          },
          "execution_count": 752,
          "metadata": {},
          "output_type": "execute_result"
        }
      ],
      "source": [
        "car['Company'].isnull().value_counts()"
      ]
    },
    {
      "cell_type": "code",
      "execution_count": null,
      "metadata": {
        "id": "mPJAgwt9Pc8a"
      },
      "outputs": [],
      "source": []
    },
    {
      "cell_type": "markdown",
      "metadata": {
        "id": "z6ReeF2isbRE"
      },
      "source": [
        "#Ex-Showroom_Price column"
      ]
    },
    {
      "cell_type": "code",
      "execution_count": null,
      "metadata": {
        "colab": {
          "base_uri": "https://localhost:8080/"
        },
        "id": "cIl-UvUAtaYI",
        "outputId": "84971a41-4a3f-4765-9a24-f8c88acf44c4"
      },
      "outputs": [
        {
          "name": "stderr",
          "output_type": "stream",
          "text": [
            "<ipython-input-753-0d4dd53559f4>:1: FutureWarning: The default value of regex will change from True to False in a future version.\n",
            "  car['Ex-Showroom_Price'] = car['Ex-Showroom_Price'].str.replace('Rs.','').str.replace(',','')\n"
          ]
        },
        {
          "data": {
            "text/html": [
              "\n",
              "  <div id=\"df-add49e7c-74b5-46f1-a38d-b662b0e3df3f\" class=\"colab-df-container\">\n",
              "    <div>\n",
              "<style scoped>\n",
              "    .dataframe tbody tr th:only-of-type {\n",
              "        vertical-align: middle;\n",
              "    }\n",
              "\n",
              "    .dataframe tbody tr th {\n",
              "        vertical-align: top;\n",
              "    }\n",
              "\n",
              "    .dataframe thead th {\n",
              "        text-align: right;\n",
              "    }\n",
              "</style>\n",
              "<table border=\"1\" class=\"dataframe\">\n",
              "  <thead>\n",
              "    <tr style=\"text-align: right;\">\n",
              "      <th></th>\n",
              "      <th>Company</th>\n",
              "      <th>Variant</th>\n",
              "      <th>Ex-Showroom_Price</th>\n",
              "      <th>Displacement</th>\n",
              "      <th>Seating_Capacity</th>\n",
              "      <th>Cylinders</th>\n",
              "      <th>Fuel_System</th>\n",
              "      <th>Body_Type</th>\n",
              "      <th>Fuel_Tank_Capacity</th>\n",
              "      <th>Fuel_Type</th>\n",
              "      <th>Height</th>\n",
              "      <th>Length</th>\n",
              "      <th>Width</th>\n",
              "      <th>City_Mileage</th>\n",
              "      <th>Parking_Assistance</th>\n",
              "      <th>Child_Safety_Locks</th>\n",
              "      <th>Seating_Capacity</th>\n",
              "      <th>Basic_Warranty</th>\n",
              "      <th>Number_of_Airbags</th>\n",
              "      <th>Navigation_System</th>\n",
              "    </tr>\n",
              "  </thead>\n",
              "  <tbody>\n",
              "    <tr>\n",
              "      <th>0</th>\n",
              "      <td>Tata-Nano Genx</td>\n",
              "      <td>Xt</td>\n",
              "      <td>292667</td>\n",
              "      <td>624 cc</td>\n",
              "      <td>4.0</td>\n",
              "      <td>2.0</td>\n",
              "      <td>Injection</td>\n",
              "      <td>Hatchback</td>\n",
              "      <td>24 litres</td>\n",
              "      <td>Petrol</td>\n",
              "      <td>1652 mm</td>\n",
              "      <td>3164 mm</td>\n",
              "      <td>1750 mm</td>\n",
              "      <td>?23.6 km/litre</td>\n",
              "      <td>NaN</td>\n",
              "      <td>Yes</td>\n",
              "      <td>4.0</td>\n",
              "      <td>2 years /75000 Kms (years/distance whichever c...</td>\n",
              "      <td>NaN</td>\n",
              "      <td>NaN</td>\n",
              "    </tr>\n",
              "    <tr>\n",
              "      <th>1</th>\n",
              "      <td>Tata-Nano Genx</td>\n",
              "      <td>Xe</td>\n",
              "      <td>236447</td>\n",
              "      <td>624 cc</td>\n",
              "      <td>4.0</td>\n",
              "      <td>2.0</td>\n",
              "      <td>Injection</td>\n",
              "      <td>Hatchback</td>\n",
              "      <td>24 litres</td>\n",
              "      <td>Petrol</td>\n",
              "      <td>1652 mm</td>\n",
              "      <td>3164 mm</td>\n",
              "      <td>1750 mm</td>\n",
              "      <td>?23.6 km/litre</td>\n",
              "      <td>NaN</td>\n",
              "      <td>Yes</td>\n",
              "      <td>4.0</td>\n",
              "      <td>2 years /75000 Kms (years/distance whichever c...</td>\n",
              "      <td>NaN</td>\n",
              "      <td>NaN</td>\n",
              "    </tr>\n",
              "    <tr>\n",
              "      <th>2</th>\n",
              "      <td>Tata-Nano Genx</td>\n",
              "      <td>Emax Xm</td>\n",
              "      <td>296661</td>\n",
              "      <td>624 cc</td>\n",
              "      <td>4.0</td>\n",
              "      <td>2.0</td>\n",
              "      <td>Injection</td>\n",
              "      <td>Hatchback</td>\n",
              "      <td>15 litres</td>\n",
              "      <td>CNG</td>\n",
              "      <td>1652 mm</td>\n",
              "      <td>3164 mm</td>\n",
              "      <td>1750 mm</td>\n",
              "      <td>NaN</td>\n",
              "      <td>NaN</td>\n",
              "      <td>Yes</td>\n",
              "      <td>4.0</td>\n",
              "      <td>2 years /75000 Kms (years/distance whichever c...</td>\n",
              "      <td>NaN</td>\n",
              "      <td>NaN</td>\n",
              "    </tr>\n",
              "    <tr>\n",
              "      <th>3</th>\n",
              "      <td>Tata-Nano Genx</td>\n",
              "      <td>Xta</td>\n",
              "      <td>334768</td>\n",
              "      <td>624 cc</td>\n",
              "      <td>4.0</td>\n",
              "      <td>2.0</td>\n",
              "      <td>Injection</td>\n",
              "      <td>Hatchback</td>\n",
              "      <td>24 litres</td>\n",
              "      <td>Petrol</td>\n",
              "      <td>1652 mm</td>\n",
              "      <td>3164 mm</td>\n",
              "      <td>1750 mm</td>\n",
              "      <td>?23.6 km/litre</td>\n",
              "      <td>NaN</td>\n",
              "      <td>Yes</td>\n",
              "      <td>4.0</td>\n",
              "      <td>2 years /75000 Kms (years/distance whichever c...</td>\n",
              "      <td>NaN</td>\n",
              "      <td>NaN</td>\n",
              "    </tr>\n",
              "    <tr>\n",
              "      <th>4</th>\n",
              "      <td>Tata-Nano Genx</td>\n",
              "      <td>Xm</td>\n",
              "      <td>272223</td>\n",
              "      <td>624 cc</td>\n",
              "      <td>4.0</td>\n",
              "      <td>2.0</td>\n",
              "      <td>Injection</td>\n",
              "      <td>Hatchback</td>\n",
              "      <td>24 litres</td>\n",
              "      <td>Petrol</td>\n",
              "      <td>1652 mm</td>\n",
              "      <td>3164 mm</td>\n",
              "      <td>1750 mm</td>\n",
              "      <td>?23.6 km/litre</td>\n",
              "      <td>NaN</td>\n",
              "      <td>Yes</td>\n",
              "      <td>4.0</td>\n",
              "      <td>2 years /75000 Kms (years/distance whichever c...</td>\n",
              "      <td>NaN</td>\n",
              "      <td>NaN</td>\n",
              "    </tr>\n",
              "  </tbody>\n",
              "</table>\n",
              "</div>\n",
              "    <div class=\"colab-df-buttons\">\n",
              "\n",
              "  <div class=\"colab-df-container\">\n",
              "    <button class=\"colab-df-convert\" onclick=\"convertToInteractive('df-add49e7c-74b5-46f1-a38d-b662b0e3df3f')\"\n",
              "            title=\"Convert this dataframe to an interactive table.\"\n",
              "            style=\"display:none;\">\n",
              "\n",
              "  <svg xmlns=\"http://www.w3.org/2000/svg\" height=\"24px\" viewBox=\"0 -960 960 960\">\n",
              "    <path d=\"M120-120v-720h720v720H120Zm60-500h600v-160H180v160Zm220 220h160v-160H400v160Zm0 220h160v-160H400v160ZM180-400h160v-160H180v160Zm440 0h160v-160H620v160ZM180-180h160v-160H180v160Zm440 0h160v-160H620v160Z\"/>\n",
              "  </svg>\n",
              "    </button>\n",
              "\n",
              "  <style>\n",
              "    .colab-df-container {\n",
              "      display:flex;\n",
              "      gap: 12px;\n",
              "    }\n",
              "\n",
              "    .colab-df-convert {\n",
              "      background-color: #E8F0FE;\n",
              "      border: none;\n",
              "      border-radius: 50%;\n",
              "      cursor: pointer;\n",
              "      display: none;\n",
              "      fill: #1967D2;\n",
              "      height: 32px;\n",
              "      padding: 0 0 0 0;\n",
              "      width: 32px;\n",
              "    }\n",
              "\n",
              "    .colab-df-convert:hover {\n",
              "      background-color: #E2EBFA;\n",
              "      box-shadow: 0px 1px 2px rgba(60, 64, 67, 0.3), 0px 1px 3px 1px rgba(60, 64, 67, 0.15);\n",
              "      fill: #174EA6;\n",
              "    }\n",
              "\n",
              "    .colab-df-buttons div {\n",
              "      margin-bottom: 4px;\n",
              "    }\n",
              "\n",
              "    [theme=dark] .colab-df-convert {\n",
              "      background-color: #3B4455;\n",
              "      fill: #D2E3FC;\n",
              "    }\n",
              "\n",
              "    [theme=dark] .colab-df-convert:hover {\n",
              "      background-color: #434B5C;\n",
              "      box-shadow: 0px 1px 3px 1px rgba(0, 0, 0, 0.15);\n",
              "      filter: drop-shadow(0px 1px 2px rgba(0, 0, 0, 0.3));\n",
              "      fill: #FFFFFF;\n",
              "    }\n",
              "  </style>\n",
              "\n",
              "    <script>\n",
              "      const buttonEl =\n",
              "        document.querySelector('#df-add49e7c-74b5-46f1-a38d-b662b0e3df3f button.colab-df-convert');\n",
              "      buttonEl.style.display =\n",
              "        google.colab.kernel.accessAllowed ? 'block' : 'none';\n",
              "\n",
              "      async function convertToInteractive(key) {\n",
              "        const element = document.querySelector('#df-add49e7c-74b5-46f1-a38d-b662b0e3df3f');\n",
              "        const dataTable =\n",
              "          await google.colab.kernel.invokeFunction('convertToInteractive',\n",
              "                                                    [key], {});\n",
              "        if (!dataTable) return;\n",
              "\n",
              "        const docLinkHtml = 'Like what you see? Visit the ' +\n",
              "          '<a target=\"_blank\" href=https://colab.research.google.com/notebooks/data_table.ipynb>data table notebook</a>'\n",
              "          + ' to learn more about interactive tables.';\n",
              "        element.innerHTML = '';\n",
              "        dataTable['output_type'] = 'display_data';\n",
              "        await google.colab.output.renderOutput(dataTable, element);\n",
              "        const docLink = document.createElement('div');\n",
              "        docLink.innerHTML = docLinkHtml;\n",
              "        element.appendChild(docLink);\n",
              "      }\n",
              "    </script>\n",
              "  </div>\n",
              "\n",
              "\n",
              "<div id=\"df-ccb90d21-5a7a-4689-8a43-ebea66c9a3db\">\n",
              "  <button class=\"colab-df-quickchart\" onclick=\"quickchart('df-ccb90d21-5a7a-4689-8a43-ebea66c9a3db')\"\n",
              "            title=\"Suggest charts\"\n",
              "            style=\"display:none;\">\n",
              "\n",
              "<svg xmlns=\"http://www.w3.org/2000/svg\" height=\"24px\"viewBox=\"0 0 24 24\"\n",
              "     width=\"24px\">\n",
              "    <g>\n",
              "        <path d=\"M19 3H5c-1.1 0-2 .9-2 2v14c0 1.1.9 2 2 2h14c1.1 0 2-.9 2-2V5c0-1.1-.9-2-2-2zM9 17H7v-7h2v7zm4 0h-2V7h2v10zm4 0h-2v-4h2v4z\"/>\n",
              "    </g>\n",
              "</svg>\n",
              "  </button>\n",
              "\n",
              "<style>\n",
              "  .colab-df-quickchart {\n",
              "      --bg-color: #E8F0FE;\n",
              "      --fill-color: #1967D2;\n",
              "      --hover-bg-color: #E2EBFA;\n",
              "      --hover-fill-color: #174EA6;\n",
              "      --disabled-fill-color: #AAA;\n",
              "      --disabled-bg-color: #DDD;\n",
              "  }\n",
              "\n",
              "  [theme=dark] .colab-df-quickchart {\n",
              "      --bg-color: #3B4455;\n",
              "      --fill-color: #D2E3FC;\n",
              "      --hover-bg-color: #434B5C;\n",
              "      --hover-fill-color: #FFFFFF;\n",
              "      --disabled-bg-color: #3B4455;\n",
              "      --disabled-fill-color: #666;\n",
              "  }\n",
              "\n",
              "  .colab-df-quickchart {\n",
              "    background-color: var(--bg-color);\n",
              "    border: none;\n",
              "    border-radius: 50%;\n",
              "    cursor: pointer;\n",
              "    display: none;\n",
              "    fill: var(--fill-color);\n",
              "    height: 32px;\n",
              "    padding: 0;\n",
              "    width: 32px;\n",
              "  }\n",
              "\n",
              "  .colab-df-quickchart:hover {\n",
              "    background-color: var(--hover-bg-color);\n",
              "    box-shadow: 0 1px 2px rgba(60, 64, 67, 0.3), 0 1px 3px 1px rgba(60, 64, 67, 0.15);\n",
              "    fill: var(--button-hover-fill-color);\n",
              "  }\n",
              "\n",
              "  .colab-df-quickchart-complete:disabled,\n",
              "  .colab-df-quickchart-complete:disabled:hover {\n",
              "    background-color: var(--disabled-bg-color);\n",
              "    fill: var(--disabled-fill-color);\n",
              "    box-shadow: none;\n",
              "  }\n",
              "\n",
              "  .colab-df-spinner {\n",
              "    border: 2px solid var(--fill-color);\n",
              "    border-color: transparent;\n",
              "    border-bottom-color: var(--fill-color);\n",
              "    animation:\n",
              "      spin 1s steps(1) infinite;\n",
              "  }\n",
              "\n",
              "  @keyframes spin {\n",
              "    0% {\n",
              "      border-color: transparent;\n",
              "      border-bottom-color: var(--fill-color);\n",
              "      border-left-color: var(--fill-color);\n",
              "    }\n",
              "    20% {\n",
              "      border-color: transparent;\n",
              "      border-left-color: var(--fill-color);\n",
              "      border-top-color: var(--fill-color);\n",
              "    }\n",
              "    30% {\n",
              "      border-color: transparent;\n",
              "      border-left-color: var(--fill-color);\n",
              "      border-top-color: var(--fill-color);\n",
              "      border-right-color: var(--fill-color);\n",
              "    }\n",
              "    40% {\n",
              "      border-color: transparent;\n",
              "      border-right-color: var(--fill-color);\n",
              "      border-top-color: var(--fill-color);\n",
              "    }\n",
              "    60% {\n",
              "      border-color: transparent;\n",
              "      border-right-color: var(--fill-color);\n",
              "    }\n",
              "    80% {\n",
              "      border-color: transparent;\n",
              "      border-right-color: var(--fill-color);\n",
              "      border-bottom-color: var(--fill-color);\n",
              "    }\n",
              "    90% {\n",
              "      border-color: transparent;\n",
              "      border-bottom-color: var(--fill-color);\n",
              "    }\n",
              "  }\n",
              "</style>\n",
              "\n",
              "  <script>\n",
              "    async function quickchart(key) {\n",
              "      const quickchartButtonEl =\n",
              "        document.querySelector('#' + key + ' button');\n",
              "      quickchartButtonEl.disabled = true;  // To prevent multiple clicks.\n",
              "      quickchartButtonEl.classList.add('colab-df-spinner');\n",
              "      try {\n",
              "        const charts = await google.colab.kernel.invokeFunction(\n",
              "            'suggestCharts', [key], {});\n",
              "      } catch (error) {\n",
              "        console.error('Error during call to suggestCharts:', error);\n",
              "      }\n",
              "      quickchartButtonEl.classList.remove('colab-df-spinner');\n",
              "      quickchartButtonEl.classList.add('colab-df-quickchart-complete');\n",
              "    }\n",
              "    (() => {\n",
              "      let quickchartButtonEl =\n",
              "        document.querySelector('#df-ccb90d21-5a7a-4689-8a43-ebea66c9a3db button');\n",
              "      quickchartButtonEl.style.display =\n",
              "        google.colab.kernel.accessAllowed ? 'block' : 'none';\n",
              "    })();\n",
              "  </script>\n",
              "</div>\n",
              "\n",
              "    </div>\n",
              "  </div>\n"
            ],
            "text/plain": [
              "          Company  Variant Ex-Showroom_Price Displacement  Seating_Capacity  \\\n",
              "0  Tata-Nano Genx       Xt            292667       624 cc               4.0   \n",
              "1  Tata-Nano Genx       Xe            236447       624 cc               4.0   \n",
              "2  Tata-Nano Genx  Emax Xm            296661       624 cc               4.0   \n",
              "3  Tata-Nano Genx      Xta            334768       624 cc               4.0   \n",
              "4  Tata-Nano Genx       Xm            272223       624 cc               4.0   \n",
              "\n",
              "   Cylinders Fuel_System  Body_Type Fuel_Tank_Capacity Fuel_Type   Height  \\\n",
              "0        2.0   Injection  Hatchback          24 litres    Petrol  1652 mm   \n",
              "1        2.0   Injection  Hatchback          24 litres    Petrol  1652 mm   \n",
              "2        2.0   Injection  Hatchback          15 litres       CNG  1652 mm   \n",
              "3        2.0   Injection  Hatchback          24 litres    Petrol  1652 mm   \n",
              "4        2.0   Injection  Hatchback          24 litres    Petrol  1652 mm   \n",
              "\n",
              "    Length    Width    City_Mileage Parking_Assistance Child_Safety_Locks  \\\n",
              "0  3164 mm  1750 mm  ?23.6 km/litre                NaN                Yes   \n",
              "1  3164 mm  1750 mm  ?23.6 km/litre                NaN                Yes   \n",
              "2  3164 mm  1750 mm             NaN                NaN                Yes   \n",
              "3  3164 mm  1750 mm  ?23.6 km/litre                NaN                Yes   \n",
              "4  3164 mm  1750 mm  ?23.6 km/litre                NaN                Yes   \n",
              "\n",
              "   Seating_Capacity                                     Basic_Warranty  \\\n",
              "0               4.0  2 years /75000 Kms (years/distance whichever c...   \n",
              "1               4.0  2 years /75000 Kms (years/distance whichever c...   \n",
              "2               4.0  2 years /75000 Kms (years/distance whichever c...   \n",
              "3               4.0  2 years /75000 Kms (years/distance whichever c...   \n",
              "4               4.0  2 years /75000 Kms (years/distance whichever c...   \n",
              "\n",
              "   Number_of_Airbags Navigation_System  \n",
              "0                NaN               NaN  \n",
              "1                NaN               NaN  \n",
              "2                NaN               NaN  \n",
              "3                NaN               NaN  \n",
              "4                NaN               NaN  "
            ]
          },
          "execution_count": 753,
          "metadata": {},
          "output_type": "execute_result"
        }
      ],
      "source": [
        "car['Ex-Showroom_Price'] = car['Ex-Showroom_Price'].str.replace('Rs.','').str.replace(',','')\n",
        "car.head()"
      ]
    },
    {
      "cell_type": "code",
      "execution_count": null,
      "metadata": {
        "colab": {
          "base_uri": "https://localhost:8080/"
        },
        "id": "_fjakKvJspm0",
        "outputId": "3421e53f-368b-4f7e-93a3-e8a01e3ee24e"
      },
      "outputs": [
        {
          "data": {
            "text/plain": [
              "0"
            ]
          },
          "execution_count": 754,
          "metadata": {},
          "output_type": "execute_result"
        }
      ],
      "source": [
        "car['Ex-Showroom_Price'].isnull().sum()"
      ]
    },
    {
      "cell_type": "code",
      "execution_count": null,
      "metadata": {
        "id": "HNXEJtt-utWv"
      },
      "outputs": [],
      "source": [
        "car['Ex-Showroom_Price'] = car['Ex-Showroom_Price'].astype(int)"
      ]
    },
    {
      "cell_type": "markdown",
      "metadata": {
        "id": "aZ1qlgLmhHDV"
      },
      "source": [
        "#Displacement column"
      ]
    },
    {
      "cell_type": "code",
      "execution_count": null,
      "metadata": {
        "colab": {
          "base_uri": "https://localhost:8080/"
        },
        "id": "WKkQOTT_QgHr",
        "outputId": "cccb318a-331b-421e-a9c0-3abf42e1456b"
      },
      "outputs": [
        {
          "data": {
            "text/plain": [
              "0        624 \n",
              "1        624 \n",
              "2        624 \n",
              "3        624 \n",
              "4        624 \n",
              "        ...  \n",
              "1271    1498 \n",
              "1272    1498 \n",
              "1273    1497 \n",
              "1274    1497 \n",
              "1275    3200 \n",
              "Name: Displacement, Length: 1201, dtype: object"
            ]
          },
          "execution_count": 756,
          "metadata": {},
          "output_type": "execute_result"
        }
      ],
      "source": [
        "car['Displacement'] = car['Displacement'].str.replace('cc','')\n",
        "car['Displacement']"
      ]
    },
    {
      "cell_type": "code",
      "execution_count": null,
      "metadata": {
        "colab": {
          "base_uri": "https://localhost:8080/"
        },
        "id": "erRPi7PCx75L",
        "outputId": "a7027a54-c973-49c1-d6d3-394613dc1775"
      },
      "outputs": [
        {
          "data": {
            "text/plain": [
              "11"
            ]
          },
          "execution_count": 757,
          "metadata": {},
          "output_type": "execute_result"
        }
      ],
      "source": [
        "car.Displacement.isnull().sum()"
      ]
    },
    {
      "cell_type": "code",
      "execution_count": null,
      "metadata": {
        "id": "qXPvEQUAyI8Q"
      },
      "outputs": [],
      "source": [
        "car=car.dropna(subset=['Displacement'])"
      ]
    },
    {
      "cell_type": "code",
      "execution_count": null,
      "metadata": {
        "colab": {
          "base_uri": "https://localhost:8080/"
        },
        "id": "QK5i67IHySRw",
        "outputId": "792af2ee-c3c3-43f1-d3e7-eb1b1491d981"
      },
      "outputs": [
        {
          "name": "stderr",
          "output_type": "stream",
          "text": [
            "<ipython-input-759-9387f2706d5e>:1: SettingWithCopyWarning: \n",
            "A value is trying to be set on a copy of a slice from a DataFrame.\n",
            "Try using .loc[row_indexer,col_indexer] = value instead\n",
            "\n",
            "See the caveats in the documentation: https://pandas.pydata.org/pandas-docs/stable/user_guide/indexing.html#returning-a-view-versus-a-copy\n",
            "  car['Displacement'] = car['Displacement'].astype(int)\n"
          ]
        }
      ],
      "source": [
        "car['Displacement'] = car['Displacement'].astype(int)"
      ]
    },
    {
      "cell_type": "markdown",
      "metadata": {
        "id": "Gi_qz8yFhMfg"
      },
      "source": [
        "#Cylinders column"
      ]
    },
    {
      "cell_type": "code",
      "execution_count": null,
      "metadata": {
        "colab": {
          "base_uri": "https://localhost:8080/"
        },
        "id": "ysMTuicmyxkP",
        "outputId": "fde2837a-3495-40a1-a609-e6bf8d239ab1"
      },
      "outputs": [
        {
          "data": {
            "text/plain": [
              "55"
            ]
          },
          "execution_count": 760,
          "metadata": {},
          "output_type": "execute_result"
        }
      ],
      "source": [
        "car.Cylinders.isnull().sum()"
      ]
    },
    {
      "cell_type": "code",
      "execution_count": null,
      "metadata": {
        "colab": {
          "base_uri": "https://localhost:8080/"
        },
        "id": "cVQwtGu5zAA-",
        "outputId": "aaed2703-77d3-44ad-99af-a9598d1a9e99"
      },
      "outputs": [
        {
          "name": "stderr",
          "output_type": "stream",
          "text": [
            "<ipython-input-761-597ec34dbc05>:1: SettingWithCopyWarning: \n",
            "A value is trying to be set on a copy of a slice from a DataFrame.\n",
            "Try using .loc[row_indexer,col_indexer] = value instead\n",
            "\n",
            "See the caveats in the documentation: https://pandas.pydata.org/pandas-docs/stable/user_guide/indexing.html#returning-a-view-versus-a-copy\n",
            "  car['Cylinders']=car['Cylinders'].replace(np.nan,car.Cylinders.median())\n"
          ]
        }
      ],
      "source": [
        "car['Cylinders']=car['Cylinders'].replace(np.nan,car.Cylinders.median())"
      ]
    },
    {
      "cell_type": "code",
      "execution_count": null,
      "metadata": {
        "colab": {
          "base_uri": "https://localhost:8080/"
        },
        "id": "X-V3PMbvylAa",
        "outputId": "a1a4ee6e-46b9-400c-86f9-d32bccc67151"
      },
      "outputs": [
        {
          "name": "stderr",
          "output_type": "stream",
          "text": [
            "<ipython-input-762-c98e17c48f83>:1: SettingWithCopyWarning: \n",
            "A value is trying to be set on a copy of a slice from a DataFrame.\n",
            "Try using .loc[row_indexer,col_indexer] = value instead\n",
            "\n",
            "See the caveats in the documentation: https://pandas.pydata.org/pandas-docs/stable/user_guide/indexing.html#returning-a-view-versus-a-copy\n",
            "  car['Cylinders'] = car['Cylinders'].astype(int)\n"
          ]
        }
      ],
      "source": [
        "car['Cylinders'] = car['Cylinders'].astype(int)"
      ]
    },
    {
      "cell_type": "code",
      "execution_count": null,
      "metadata": {
        "colab": {
          "base_uri": "https://localhost:8080/"
        },
        "id": "ye8WavEnyWw4",
        "outputId": "dcff2d44-a57c-4662-f8e8-6b97eb74217d"
      },
      "outputs": [
        {
          "data": {
            "text/plain": [
              "<bound method Series.info of 0       2\n",
              "1       2\n",
              "2       2\n",
              "3       2\n",
              "4       2\n",
              "       ..\n",
              "1271    4\n",
              "1272    4\n",
              "1273    4\n",
              "1274    4\n",
              "1275    4\n",
              "Name: Cylinders, Length: 1190, dtype: int64>"
            ]
          },
          "execution_count": 763,
          "metadata": {},
          "output_type": "execute_result"
        }
      ],
      "source": [
        "car.Cylinders.info"
      ]
    },
    {
      "cell_type": "markdown",
      "metadata": {
        "id": "3K60Qx2bhXG7"
      },
      "source": [
        "#Fuel column"
      ]
    },
    {
      "cell_type": "code",
      "execution_count": null,
      "metadata": {
        "colab": {
          "base_uri": "https://localhost:8080/"
        },
        "id": "RKM3wnWt1BBn",
        "outputId": "f1810794-333b-4653-f421-4b8e25d223d0"
      },
      "outputs": [
        {
          "data": {
            "text/plain": [
              "<bound method Series.info of 0       Injection\n",
              "1       Injection\n",
              "2       Injection\n",
              "3       Injection\n",
              "4       Injection\n",
              "          ...    \n",
              "1271    Injection\n",
              "1272    Injection\n",
              "1273    Injection\n",
              "1274    Injection\n",
              "1275    Injection\n",
              "Name: Fuel_System, Length: 1190, dtype: object>"
            ]
          },
          "execution_count": 764,
          "metadata": {},
          "output_type": "execute_result"
        }
      ],
      "source": [
        "car.Fuel_System.info"
      ]
    },
    {
      "cell_type": "code",
      "execution_count": null,
      "metadata": {
        "colab": {
          "base_uri": "https://localhost:8080/"
        },
        "id": "uTujbZRYh63t",
        "outputId": "530e7152-dbde-406b-939e-3b5f1a83947f"
      },
      "outputs": [
        {
          "data": {
            "text/plain": [
              "7"
            ]
          },
          "execution_count": 765,
          "metadata": {},
          "output_type": "execute_result"
        }
      ],
      "source": [
        "car.Fuel_System.isnull().sum()"
      ]
    },
    {
      "cell_type": "code",
      "execution_count": null,
      "metadata": {
        "id": "QK6GC6sMiFWS"
      },
      "outputs": [],
      "source": [
        "car=car.dropna(subset=['Fuel_System'])"
      ]
    },
    {
      "cell_type": "code",
      "execution_count": null,
      "metadata": {
        "colab": {
          "base_uri": "https://localhost:8080/"
        },
        "id": "Zb3QAvFnma8Q",
        "outputId": "7a064a9a-0069-43f5-992b-dbb5c2869c97"
      },
      "outputs": [
        {
          "data": {
            "text/plain": [
              "53"
            ]
          },
          "execution_count": 767,
          "metadata": {},
          "output_type": "execute_result"
        }
      ],
      "source": [
        "car.Fuel_Tank_Capacity.isnull().sum()"
      ]
    },
    {
      "cell_type": "code",
      "execution_count": null,
      "metadata": {
        "id": "T1QBa-JqmjeA"
      },
      "outputs": [],
      "source": [
        "car['Fuel_Tank_Capacity']=car['Fuel_Tank_Capacity'].replace(np.nan,car.Cylinders.median())"
      ]
    },
    {
      "cell_type": "code",
      "execution_count": null,
      "metadata": {
        "colab": {
          "base_uri": "https://localhost:8080/"
        },
        "id": "ORwlTKOWj72_",
        "outputId": "b10f1a68-cd2a-41eb-ec3c-f0f7a11b7870"
      },
      "outputs": [
        {
          "data": {
            "text/plain": [
              "0       24.0\n",
              "1       24.0\n",
              "2       15.0\n",
              "3       24.0\n",
              "4       24.0\n",
              "        ... \n",
              "1271    40.0\n",
              "1272    40.0\n",
              "1273    40.0\n",
              "1274    40.0\n",
              "1275    88.0\n",
              "Name: Fuel_Tank_Capacity, Length: 1183, dtype: float64"
            ]
          },
          "execution_count": 769,
          "metadata": {},
          "output_type": "execute_result"
        }
      ],
      "source": [
        "car['Fuel_Tank_Capacity']=car.Fuel_Tank_Capacity.str.replace('litres','')\n",
        "car['Fuel_Tank_Capacity'].astype(float)"
      ]
    },
    {
      "cell_type": "code",
      "execution_count": null,
      "metadata": {
        "colab": {
          "base_uri": "https://localhost:8080/"
        },
        "id": "v20n7viEn1vV",
        "outputId": "40baf3f3-f872-4c9a-9ef8-88ab01168582"
      },
      "outputs": [
        {
          "data": {
            "text/plain": [
              "<bound method Series.info of 0       Petrol\n",
              "1       Petrol\n",
              "2          CNG\n",
              "3       Petrol\n",
              "4       Petrol\n",
              "         ...  \n",
              "1271    Diesel\n",
              "1272    Diesel\n",
              "1273    Petrol\n",
              "1274    Petrol\n",
              "1275    Diesel\n",
              "Name: Fuel_Type, Length: 1183, dtype: object>"
            ]
          },
          "execution_count": 770,
          "metadata": {},
          "output_type": "execute_result"
        }
      ],
      "source": [
        "car.Fuel_Type.info"
      ]
    },
    {
      "cell_type": "code",
      "execution_count": null,
      "metadata": {
        "colab": {
          "base_uri": "https://localhost:8080/"
        },
        "id": "Dkf3nBL2ou5U",
        "outputId": "fa5ab6cc-7730-4f90-d14a-7894bf70a752"
      },
      "outputs": [
        {
          "data": {
            "text/plain": [
              "0"
            ]
          },
          "execution_count": 771,
          "metadata": {},
          "output_type": "execute_result"
        }
      ],
      "source": [
        "car.Fuel_Type.isnull().sum()"
      ]
    },
    {
      "cell_type": "markdown",
      "metadata": {
        "id": "3o4VUGk3pYS0"
      },
      "source": [
        "#Mileage column"
      ]
    },
    {
      "cell_type": "code",
      "execution_count": null,
      "metadata": {
        "colab": {
          "base_uri": "https://localhost:8080/"
        },
        "id": "mHbTRIbxo1MS",
        "outputId": "c0acabc7-62d4-4d9b-d9c6-ebeaa7b5479d"
      },
      "outputs": [
        {
          "data": {
            "text/plain": [
              "<bound method Series.info of 0       ?23.6 km/litre\n",
              "1       ?23.6 km/litre\n",
              "2                  NaN\n",
              "3       ?23.6 km/litre\n",
              "4       ?23.6 km/litre\n",
              "             ...      \n",
              "1271     22.6 km/litre\n",
              "1272     22.6 km/litre\n",
              "1273       18 km/litre\n",
              "1274     14.3 km/litre\n",
              "1275     8.25 km/litre\n",
              "Name: City_Mileage, Length: 1183, dtype: object>"
            ]
          },
          "execution_count": 772,
          "metadata": {},
          "output_type": "execute_result"
        }
      ],
      "source": [
        "car.City_Mileage.info"
      ]
    },
    {
      "cell_type": "code",
      "execution_count": null,
      "metadata": {
        "colab": {
          "base_uri": "https://localhost:8080/"
        },
        "id": "Fj7NWv-cs3Uy",
        "outputId": "2862978e-1838-45f9-9ff0-f6c7b208401a"
      },
      "outputs": [
        {
          "name": "stderr",
          "output_type": "stream",
          "text": [
            "<ipython-input-773-262db6c0563b>:1: FutureWarning: The default value of regex will change from True to False in a future version. In addition, single character regular expressions will *not* be treated as literal strings when regex=True.\n",
            "  car['City_Mileage'] = car['City_Mileage'].str.replace('?',' ')\n"
          ]
        }
      ],
      "source": [
        "car['City_Mileage'] = car['City_Mileage'].str.replace('?',' ')"
      ]
    },
    {
      "cell_type": "code",
      "execution_count": null,
      "metadata": {
        "id": "p6N-ciu-u_GB"
      },
      "outputs": [],
      "source": [
        "car['City_Mileage']=car['City_Mileage'].str.strip('km/litre')"
      ]
    },
    {
      "cell_type": "code",
      "execution_count": null,
      "metadata": {
        "id": "moxGDGfJqyTm"
      },
      "outputs": [],
      "source": [
        "car['City_Mileage']=car['City_Mileage'].str.replace(',','.')"
      ]
    },
    {
      "cell_type": "code",
      "execution_count": null,
      "metadata": {
        "colab": {
          "base_uri": "https://localhost:8080/"
        },
        "id": "AdJCOfBATtDy",
        "outputId": "245fb7b1-f203-40d2-9b28-fefb4648ee89"
      },
      "outputs": [
        {
          "name": "stderr",
          "output_type": "stream",
          "text": [
            "<ipython-input-776-d430deabe29d>:1: FutureWarning: The default value of regex will change from True to False in a future version.\n",
            "  car['City_Mileage']=car['City_Mileage'].str.replace('12.5-12.7','12.5')\n"
          ]
        }
      ],
      "source": [
        "car['City_Mileage']=car['City_Mileage'].str.replace('12.5-12.7','12.5')"
      ]
    },
    {
      "cell_type": "code",
      "execution_count": null,
      "metadata": {
        "id": "Gi0ikJrByyXl"
      },
      "outputs": [],
      "source": [
        "car['City_Mileage']=car['City_Mileage'].astype(float)"
      ]
    },
    {
      "cell_type": "code",
      "execution_count": null,
      "metadata": {
        "colab": {
          "base_uri": "https://localhost:8080/"
        },
        "id": "Ajzh4HwgSwwj",
        "outputId": "be1ac753-1c81-40bd-a2e9-249592798d41"
      },
      "outputs": [
        {
          "data": {
            "text/plain": [
              "518"
            ]
          },
          "execution_count": 778,
          "metadata": {},
          "output_type": "execute_result"
        }
      ],
      "source": [
        "car['City_Mileage'].isnull().sum()"
      ]
    },
    {
      "cell_type": "code",
      "execution_count": null,
      "metadata": {
        "id": "BIqRrHevzbJq"
      },
      "outputs": [],
      "source": [
        "car['City_Mileage']=car['City_Mileage'].replace(np.nan,car.City_Mileage.median())"
      ]
    },
    {
      "cell_type": "code",
      "execution_count": null,
      "metadata": {
        "colab": {
          "base_uri": "https://localhost:8080/"
        },
        "id": "ghF6GfHCvKH8",
        "outputId": "e039a159-46d3-4ef4-fc6f-04d46690fdf6"
      },
      "outputs": [
        {
          "data": {
            "text/plain": [
              "0       23.60\n",
              "1       23.60\n",
              "2       15.50\n",
              "3       23.60\n",
              "4       23.60\n",
              "        ...  \n",
              "1271    22.60\n",
              "1272    22.60\n",
              "1273    18.00\n",
              "1274    14.30\n",
              "1275     8.25\n",
              "Name: City_Mileage, Length: 1183, dtype: float64"
            ]
          },
          "execution_count": 780,
          "metadata": {},
          "output_type": "execute_result"
        }
      ],
      "source": [
        "car['City_Mileage']"
      ]
    },
    {
      "cell_type": "markdown",
      "metadata": {
        "id": "RHld0he7vQYL"
      },
      "source": [
        " #Seating Capacity   column"
      ]
    },
    {
      "cell_type": "code",
      "execution_count": null,
      "metadata": {
        "colab": {
          "base_uri": "https://localhost:8080/"
        },
        "id": "XG6M0K6ozcfb",
        "outputId": "c336f2f0-47de-4384-9fcd-d76446b0fae6"
      },
      "outputs": [
        {
          "data": {
            "text/html": [
              "\n",
              "  <div id=\"df-14ca4acb-6da5-4cd4-b923-33918fbea30d\" class=\"colab-df-container\">\n",
              "    <div>\n",
              "<style scoped>\n",
              "    .dataframe tbody tr th:only-of-type {\n",
              "        vertical-align: middle;\n",
              "    }\n",
              "\n",
              "    .dataframe tbody tr th {\n",
              "        vertical-align: top;\n",
              "    }\n",
              "\n",
              "    .dataframe thead th {\n",
              "        text-align: right;\n",
              "    }\n",
              "</style>\n",
              "<table border=\"1\" class=\"dataframe\">\n",
              "  <thead>\n",
              "    <tr style=\"text-align: right;\">\n",
              "      <th></th>\n",
              "      <th>Seating_Capacity</th>\n",
              "      <th>Seating_Capacity</th>\n",
              "    </tr>\n",
              "  </thead>\n",
              "  <tbody>\n",
              "    <tr>\n",
              "      <th>0</th>\n",
              "      <td>4.0</td>\n",
              "      <td>4.0</td>\n",
              "    </tr>\n",
              "    <tr>\n",
              "      <th>1</th>\n",
              "      <td>4.0</td>\n",
              "      <td>4.0</td>\n",
              "    </tr>\n",
              "    <tr>\n",
              "      <th>2</th>\n",
              "      <td>4.0</td>\n",
              "      <td>4.0</td>\n",
              "    </tr>\n",
              "    <tr>\n",
              "      <th>3</th>\n",
              "      <td>4.0</td>\n",
              "      <td>4.0</td>\n",
              "    </tr>\n",
              "    <tr>\n",
              "      <th>4</th>\n",
              "      <td>4.0</td>\n",
              "      <td>4.0</td>\n",
              "    </tr>\n",
              "    <tr>\n",
              "      <th>...</th>\n",
              "      <td>...</td>\n",
              "      <td>...</td>\n",
              "    </tr>\n",
              "    <tr>\n",
              "      <th>1271</th>\n",
              "      <td>5.0</td>\n",
              "      <td>5.0</td>\n",
              "    </tr>\n",
              "    <tr>\n",
              "      <th>1272</th>\n",
              "      <td>5.0</td>\n",
              "      <td>5.0</td>\n",
              "    </tr>\n",
              "    <tr>\n",
              "      <th>1273</th>\n",
              "      <td>5.0</td>\n",
              "      <td>5.0</td>\n",
              "    </tr>\n",
              "    <tr>\n",
              "      <th>1274</th>\n",
              "      <td>5.0</td>\n",
              "      <td>5.0</td>\n",
              "    </tr>\n",
              "    <tr>\n",
              "      <th>1275</th>\n",
              "      <td>7.0</td>\n",
              "      <td>7.0</td>\n",
              "    </tr>\n",
              "  </tbody>\n",
              "</table>\n",
              "<p>1183 rows × 2 columns</p>\n",
              "</div>\n",
              "    <div class=\"colab-df-buttons\">\n",
              "\n",
              "  <div class=\"colab-df-container\">\n",
              "    <button class=\"colab-df-convert\" onclick=\"convertToInteractive('df-14ca4acb-6da5-4cd4-b923-33918fbea30d')\"\n",
              "            title=\"Convert this dataframe to an interactive table.\"\n",
              "            style=\"display:none;\">\n",
              "\n",
              "  <svg xmlns=\"http://www.w3.org/2000/svg\" height=\"24px\" viewBox=\"0 -960 960 960\">\n",
              "    <path d=\"M120-120v-720h720v720H120Zm60-500h600v-160H180v160Zm220 220h160v-160H400v160Zm0 220h160v-160H400v160ZM180-400h160v-160H180v160Zm440 0h160v-160H620v160ZM180-180h160v-160H180v160Zm440 0h160v-160H620v160Z\"/>\n",
              "  </svg>\n",
              "    </button>\n",
              "\n",
              "  <style>\n",
              "    .colab-df-container {\n",
              "      display:flex;\n",
              "      gap: 12px;\n",
              "    }\n",
              "\n",
              "    .colab-df-convert {\n",
              "      background-color: #E8F0FE;\n",
              "      border: none;\n",
              "      border-radius: 50%;\n",
              "      cursor: pointer;\n",
              "      display: none;\n",
              "      fill: #1967D2;\n",
              "      height: 32px;\n",
              "      padding: 0 0 0 0;\n",
              "      width: 32px;\n",
              "    }\n",
              "\n",
              "    .colab-df-convert:hover {\n",
              "      background-color: #E2EBFA;\n",
              "      box-shadow: 0px 1px 2px rgba(60, 64, 67, 0.3), 0px 1px 3px 1px rgba(60, 64, 67, 0.15);\n",
              "      fill: #174EA6;\n",
              "    }\n",
              "\n",
              "    .colab-df-buttons div {\n",
              "      margin-bottom: 4px;\n",
              "    }\n",
              "\n",
              "    [theme=dark] .colab-df-convert {\n",
              "      background-color: #3B4455;\n",
              "      fill: #D2E3FC;\n",
              "    }\n",
              "\n",
              "    [theme=dark] .colab-df-convert:hover {\n",
              "      background-color: #434B5C;\n",
              "      box-shadow: 0px 1px 3px 1px rgba(0, 0, 0, 0.15);\n",
              "      filter: drop-shadow(0px 1px 2px rgba(0, 0, 0, 0.3));\n",
              "      fill: #FFFFFF;\n",
              "    }\n",
              "  </style>\n",
              "\n",
              "    <script>\n",
              "      const buttonEl =\n",
              "        document.querySelector('#df-14ca4acb-6da5-4cd4-b923-33918fbea30d button.colab-df-convert');\n",
              "      buttonEl.style.display =\n",
              "        google.colab.kernel.accessAllowed ? 'block' : 'none';\n",
              "\n",
              "      async function convertToInteractive(key) {\n",
              "        const element = document.querySelector('#df-14ca4acb-6da5-4cd4-b923-33918fbea30d');\n",
              "        const dataTable =\n",
              "          await google.colab.kernel.invokeFunction('convertToInteractive',\n",
              "                                                    [key], {});\n",
              "        if (!dataTable) return;\n",
              "\n",
              "        const docLinkHtml = 'Like what you see? Visit the ' +\n",
              "          '<a target=\"_blank\" href=https://colab.research.google.com/notebooks/data_table.ipynb>data table notebook</a>'\n",
              "          + ' to learn more about interactive tables.';\n",
              "        element.innerHTML = '';\n",
              "        dataTable['output_type'] = 'display_data';\n",
              "        await google.colab.output.renderOutput(dataTable, element);\n",
              "        const docLink = document.createElement('div');\n",
              "        docLink.innerHTML = docLinkHtml;\n",
              "        element.appendChild(docLink);\n",
              "      }\n",
              "    </script>\n",
              "  </div>\n",
              "\n",
              "\n",
              "<div id=\"df-bd3c2d25-e82e-4d58-bcf6-3402b71b2131\">\n",
              "  <button class=\"colab-df-quickchart\" onclick=\"quickchart('df-bd3c2d25-e82e-4d58-bcf6-3402b71b2131')\"\n",
              "            title=\"Suggest charts\"\n",
              "            style=\"display:none;\">\n",
              "\n",
              "<svg xmlns=\"http://www.w3.org/2000/svg\" height=\"24px\"viewBox=\"0 0 24 24\"\n",
              "     width=\"24px\">\n",
              "    <g>\n",
              "        <path d=\"M19 3H5c-1.1 0-2 .9-2 2v14c0 1.1.9 2 2 2h14c1.1 0 2-.9 2-2V5c0-1.1-.9-2-2-2zM9 17H7v-7h2v7zm4 0h-2V7h2v10zm4 0h-2v-4h2v4z\"/>\n",
              "    </g>\n",
              "</svg>\n",
              "  </button>\n",
              "\n",
              "<style>\n",
              "  .colab-df-quickchart {\n",
              "      --bg-color: #E8F0FE;\n",
              "      --fill-color: #1967D2;\n",
              "      --hover-bg-color: #E2EBFA;\n",
              "      --hover-fill-color: #174EA6;\n",
              "      --disabled-fill-color: #AAA;\n",
              "      --disabled-bg-color: #DDD;\n",
              "  }\n",
              "\n",
              "  [theme=dark] .colab-df-quickchart {\n",
              "      --bg-color: #3B4455;\n",
              "      --fill-color: #D2E3FC;\n",
              "      --hover-bg-color: #434B5C;\n",
              "      --hover-fill-color: #FFFFFF;\n",
              "      --disabled-bg-color: #3B4455;\n",
              "      --disabled-fill-color: #666;\n",
              "  }\n",
              "\n",
              "  .colab-df-quickchart {\n",
              "    background-color: var(--bg-color);\n",
              "    border: none;\n",
              "    border-radius: 50%;\n",
              "    cursor: pointer;\n",
              "    display: none;\n",
              "    fill: var(--fill-color);\n",
              "    height: 32px;\n",
              "    padding: 0;\n",
              "    width: 32px;\n",
              "  }\n",
              "\n",
              "  .colab-df-quickchart:hover {\n",
              "    background-color: var(--hover-bg-color);\n",
              "    box-shadow: 0 1px 2px rgba(60, 64, 67, 0.3), 0 1px 3px 1px rgba(60, 64, 67, 0.15);\n",
              "    fill: var(--button-hover-fill-color);\n",
              "  }\n",
              "\n",
              "  .colab-df-quickchart-complete:disabled,\n",
              "  .colab-df-quickchart-complete:disabled:hover {\n",
              "    background-color: var(--disabled-bg-color);\n",
              "    fill: var(--disabled-fill-color);\n",
              "    box-shadow: none;\n",
              "  }\n",
              "\n",
              "  .colab-df-spinner {\n",
              "    border: 2px solid var(--fill-color);\n",
              "    border-color: transparent;\n",
              "    border-bottom-color: var(--fill-color);\n",
              "    animation:\n",
              "      spin 1s steps(1) infinite;\n",
              "  }\n",
              "\n",
              "  @keyframes spin {\n",
              "    0% {\n",
              "      border-color: transparent;\n",
              "      border-bottom-color: var(--fill-color);\n",
              "      border-left-color: var(--fill-color);\n",
              "    }\n",
              "    20% {\n",
              "      border-color: transparent;\n",
              "      border-left-color: var(--fill-color);\n",
              "      border-top-color: var(--fill-color);\n",
              "    }\n",
              "    30% {\n",
              "      border-color: transparent;\n",
              "      border-left-color: var(--fill-color);\n",
              "      border-top-color: var(--fill-color);\n",
              "      border-right-color: var(--fill-color);\n",
              "    }\n",
              "    40% {\n",
              "      border-color: transparent;\n",
              "      border-right-color: var(--fill-color);\n",
              "      border-top-color: var(--fill-color);\n",
              "    }\n",
              "    60% {\n",
              "      border-color: transparent;\n",
              "      border-right-color: var(--fill-color);\n",
              "    }\n",
              "    80% {\n",
              "      border-color: transparent;\n",
              "      border-right-color: var(--fill-color);\n",
              "      border-bottom-color: var(--fill-color);\n",
              "    }\n",
              "    90% {\n",
              "      border-color: transparent;\n",
              "      border-bottom-color: var(--fill-color);\n",
              "    }\n",
              "  }\n",
              "</style>\n",
              "\n",
              "  <script>\n",
              "    async function quickchart(key) {\n",
              "      const quickchartButtonEl =\n",
              "        document.querySelector('#' + key + ' button');\n",
              "      quickchartButtonEl.disabled = true;  // To prevent multiple clicks.\n",
              "      quickchartButtonEl.classList.add('colab-df-spinner');\n",
              "      try {\n",
              "        const charts = await google.colab.kernel.invokeFunction(\n",
              "            'suggestCharts', [key], {});\n",
              "      } catch (error) {\n",
              "        console.error('Error during call to suggestCharts:', error);\n",
              "      }\n",
              "      quickchartButtonEl.classList.remove('colab-df-spinner');\n",
              "      quickchartButtonEl.classList.add('colab-df-quickchart-complete');\n",
              "    }\n",
              "    (() => {\n",
              "      let quickchartButtonEl =\n",
              "        document.querySelector('#df-bd3c2d25-e82e-4d58-bcf6-3402b71b2131 button');\n",
              "      quickchartButtonEl.style.display =\n",
              "        google.colab.kernel.accessAllowed ? 'block' : 'none';\n",
              "    })();\n",
              "  </script>\n",
              "</div>\n",
              "\n",
              "    </div>\n",
              "  </div>\n"
            ],
            "text/plain": [
              "      Seating_Capacity  Seating_Capacity\n",
              "0                  4.0               4.0\n",
              "1                  4.0               4.0\n",
              "2                  4.0               4.0\n",
              "3                  4.0               4.0\n",
              "4                  4.0               4.0\n",
              "...                ...               ...\n",
              "1271               5.0               5.0\n",
              "1272               5.0               5.0\n",
              "1273               5.0               5.0\n",
              "1274               5.0               5.0\n",
              "1275               7.0               7.0\n",
              "\n",
              "[1183 rows x 2 columns]"
            ]
          },
          "execution_count": 781,
          "metadata": {},
          "output_type": "execute_result"
        }
      ],
      "source": [
        "car['Seating_Capacity']"
      ]
    },
    {
      "cell_type": "code",
      "execution_count": null,
      "metadata": {
        "colab": {
          "base_uri": "https://localhost:8080/"
        },
        "id": "SHed2xyTzhwY",
        "outputId": "c34087d9-57df-4b4b-e680-745d0119632c"
      },
      "outputs": [
        {
          "data": {
            "text/plain": [
              "Seating_Capacity    5\n",
              "Seating_Capacity    5\n",
              "dtype: int64"
            ]
          },
          "execution_count": 782,
          "metadata": {},
          "output_type": "execute_result"
        }
      ],
      "source": [
        "car['Seating_Capacity'].isnull().sum()"
      ]
    },
    {
      "cell_type": "code",
      "execution_count": null,
      "metadata": {
        "id": "UICIFhv5zqx5"
      },
      "outputs": [],
      "source": [
        "car['Seating_Capacity']=car['Seating_Capacity'].replace(np.nan,car.Seating_Capacity.median())"
      ]
    },
    {
      "cell_type": "code",
      "execution_count": null,
      "metadata": {
        "id": "6RZi2o6Q0r9X"
      },
      "outputs": [],
      "source": [
        "car['Seating_Capacity']=car['Seating_Capacity'].astype(int)"
      ]
    },
    {
      "cell_type": "code",
      "execution_count": null,
      "metadata": {
        "colab": {
          "base_uri": "https://localhost:8080/"
        },
        "id": "rEkkrBPLURxS",
        "outputId": "ecdf8dfc-d0e4-4435-de25-61e07bf2b74d"
      },
      "outputs": [
        {
          "data": {
            "text/html": [
              "\n",
              "  <div id=\"df-3f3614e1-2b7c-4d57-944a-7ee71f760b50\" class=\"colab-df-container\">\n",
              "    <div>\n",
              "<style scoped>\n",
              "    .dataframe tbody tr th:only-of-type {\n",
              "        vertical-align: middle;\n",
              "    }\n",
              "\n",
              "    .dataframe tbody tr th {\n",
              "        vertical-align: top;\n",
              "    }\n",
              "\n",
              "    .dataframe thead th {\n",
              "        text-align: right;\n",
              "    }\n",
              "</style>\n",
              "<table border=\"1\" class=\"dataframe\">\n",
              "  <thead>\n",
              "    <tr style=\"text-align: right;\">\n",
              "      <th></th>\n",
              "      <th>Seating_Capacity</th>\n",
              "      <th>Seating_Capacity</th>\n",
              "    </tr>\n",
              "  </thead>\n",
              "  <tbody>\n",
              "    <tr>\n",
              "      <th>0</th>\n",
              "      <td>4</td>\n",
              "      <td>4</td>\n",
              "    </tr>\n",
              "    <tr>\n",
              "      <th>1</th>\n",
              "      <td>4</td>\n",
              "      <td>4</td>\n",
              "    </tr>\n",
              "    <tr>\n",
              "      <th>2</th>\n",
              "      <td>4</td>\n",
              "      <td>4</td>\n",
              "    </tr>\n",
              "    <tr>\n",
              "      <th>3</th>\n",
              "      <td>4</td>\n",
              "      <td>4</td>\n",
              "    </tr>\n",
              "    <tr>\n",
              "      <th>4</th>\n",
              "      <td>4</td>\n",
              "      <td>4</td>\n",
              "    </tr>\n",
              "    <tr>\n",
              "      <th>...</th>\n",
              "      <td>...</td>\n",
              "      <td>...</td>\n",
              "    </tr>\n",
              "    <tr>\n",
              "      <th>1271</th>\n",
              "      <td>5</td>\n",
              "      <td>5</td>\n",
              "    </tr>\n",
              "    <tr>\n",
              "      <th>1272</th>\n",
              "      <td>5</td>\n",
              "      <td>5</td>\n",
              "    </tr>\n",
              "    <tr>\n",
              "      <th>1273</th>\n",
              "      <td>5</td>\n",
              "      <td>5</td>\n",
              "    </tr>\n",
              "    <tr>\n",
              "      <th>1274</th>\n",
              "      <td>5</td>\n",
              "      <td>5</td>\n",
              "    </tr>\n",
              "    <tr>\n",
              "      <th>1275</th>\n",
              "      <td>7</td>\n",
              "      <td>7</td>\n",
              "    </tr>\n",
              "  </tbody>\n",
              "</table>\n",
              "<p>1183 rows × 2 columns</p>\n",
              "</div>\n",
              "    <div class=\"colab-df-buttons\">\n",
              "\n",
              "  <div class=\"colab-df-container\">\n",
              "    <button class=\"colab-df-convert\" onclick=\"convertToInteractive('df-3f3614e1-2b7c-4d57-944a-7ee71f760b50')\"\n",
              "            title=\"Convert this dataframe to an interactive table.\"\n",
              "            style=\"display:none;\">\n",
              "\n",
              "  <svg xmlns=\"http://www.w3.org/2000/svg\" height=\"24px\" viewBox=\"0 -960 960 960\">\n",
              "    <path d=\"M120-120v-720h720v720H120Zm60-500h600v-160H180v160Zm220 220h160v-160H400v160Zm0 220h160v-160H400v160ZM180-400h160v-160H180v160Zm440 0h160v-160H620v160ZM180-180h160v-160H180v160Zm440 0h160v-160H620v160Z\"/>\n",
              "  </svg>\n",
              "    </button>\n",
              "\n",
              "  <style>\n",
              "    .colab-df-container {\n",
              "      display:flex;\n",
              "      gap: 12px;\n",
              "    }\n",
              "\n",
              "    .colab-df-convert {\n",
              "      background-color: #E8F0FE;\n",
              "      border: none;\n",
              "      border-radius: 50%;\n",
              "      cursor: pointer;\n",
              "      display: none;\n",
              "      fill: #1967D2;\n",
              "      height: 32px;\n",
              "      padding: 0 0 0 0;\n",
              "      width: 32px;\n",
              "    }\n",
              "\n",
              "    .colab-df-convert:hover {\n",
              "      background-color: #E2EBFA;\n",
              "      box-shadow: 0px 1px 2px rgba(60, 64, 67, 0.3), 0px 1px 3px 1px rgba(60, 64, 67, 0.15);\n",
              "      fill: #174EA6;\n",
              "    }\n",
              "\n",
              "    .colab-df-buttons div {\n",
              "      margin-bottom: 4px;\n",
              "    }\n",
              "\n",
              "    [theme=dark] .colab-df-convert {\n",
              "      background-color: #3B4455;\n",
              "      fill: #D2E3FC;\n",
              "    }\n",
              "\n",
              "    [theme=dark] .colab-df-convert:hover {\n",
              "      background-color: #434B5C;\n",
              "      box-shadow: 0px 1px 3px 1px rgba(0, 0, 0, 0.15);\n",
              "      filter: drop-shadow(0px 1px 2px rgba(0, 0, 0, 0.3));\n",
              "      fill: #FFFFFF;\n",
              "    }\n",
              "  </style>\n",
              "\n",
              "    <script>\n",
              "      const buttonEl =\n",
              "        document.querySelector('#df-3f3614e1-2b7c-4d57-944a-7ee71f760b50 button.colab-df-convert');\n",
              "      buttonEl.style.display =\n",
              "        google.colab.kernel.accessAllowed ? 'block' : 'none';\n",
              "\n",
              "      async function convertToInteractive(key) {\n",
              "        const element = document.querySelector('#df-3f3614e1-2b7c-4d57-944a-7ee71f760b50');\n",
              "        const dataTable =\n",
              "          await google.colab.kernel.invokeFunction('convertToInteractive',\n",
              "                                                    [key], {});\n",
              "        if (!dataTable) return;\n",
              "\n",
              "        const docLinkHtml = 'Like what you see? Visit the ' +\n",
              "          '<a target=\"_blank\" href=https://colab.research.google.com/notebooks/data_table.ipynb>data table notebook</a>'\n",
              "          + ' to learn more about interactive tables.';\n",
              "        element.innerHTML = '';\n",
              "        dataTable['output_type'] = 'display_data';\n",
              "        await google.colab.output.renderOutput(dataTable, element);\n",
              "        const docLink = document.createElement('div');\n",
              "        docLink.innerHTML = docLinkHtml;\n",
              "        element.appendChild(docLink);\n",
              "      }\n",
              "    </script>\n",
              "  </div>\n",
              "\n",
              "\n",
              "<div id=\"df-50cff143-4b8e-4fbb-a451-4045c8349c4e\">\n",
              "  <button class=\"colab-df-quickchart\" onclick=\"quickchart('df-50cff143-4b8e-4fbb-a451-4045c8349c4e')\"\n",
              "            title=\"Suggest charts\"\n",
              "            style=\"display:none;\">\n",
              "\n",
              "<svg xmlns=\"http://www.w3.org/2000/svg\" height=\"24px\"viewBox=\"0 0 24 24\"\n",
              "     width=\"24px\">\n",
              "    <g>\n",
              "        <path d=\"M19 3H5c-1.1 0-2 .9-2 2v14c0 1.1.9 2 2 2h14c1.1 0 2-.9 2-2V5c0-1.1-.9-2-2-2zM9 17H7v-7h2v7zm4 0h-2V7h2v10zm4 0h-2v-4h2v4z\"/>\n",
              "    </g>\n",
              "</svg>\n",
              "  </button>\n",
              "\n",
              "<style>\n",
              "  .colab-df-quickchart {\n",
              "      --bg-color: #E8F0FE;\n",
              "      --fill-color: #1967D2;\n",
              "      --hover-bg-color: #E2EBFA;\n",
              "      --hover-fill-color: #174EA6;\n",
              "      --disabled-fill-color: #AAA;\n",
              "      --disabled-bg-color: #DDD;\n",
              "  }\n",
              "\n",
              "  [theme=dark] .colab-df-quickchart {\n",
              "      --bg-color: #3B4455;\n",
              "      --fill-color: #D2E3FC;\n",
              "      --hover-bg-color: #434B5C;\n",
              "      --hover-fill-color: #FFFFFF;\n",
              "      --disabled-bg-color: #3B4455;\n",
              "      --disabled-fill-color: #666;\n",
              "  }\n",
              "\n",
              "  .colab-df-quickchart {\n",
              "    background-color: var(--bg-color);\n",
              "    border: none;\n",
              "    border-radius: 50%;\n",
              "    cursor: pointer;\n",
              "    display: none;\n",
              "    fill: var(--fill-color);\n",
              "    height: 32px;\n",
              "    padding: 0;\n",
              "    width: 32px;\n",
              "  }\n",
              "\n",
              "  .colab-df-quickchart:hover {\n",
              "    background-color: var(--hover-bg-color);\n",
              "    box-shadow: 0 1px 2px rgba(60, 64, 67, 0.3), 0 1px 3px 1px rgba(60, 64, 67, 0.15);\n",
              "    fill: var(--button-hover-fill-color);\n",
              "  }\n",
              "\n",
              "  .colab-df-quickchart-complete:disabled,\n",
              "  .colab-df-quickchart-complete:disabled:hover {\n",
              "    background-color: var(--disabled-bg-color);\n",
              "    fill: var(--disabled-fill-color);\n",
              "    box-shadow: none;\n",
              "  }\n",
              "\n",
              "  .colab-df-spinner {\n",
              "    border: 2px solid var(--fill-color);\n",
              "    border-color: transparent;\n",
              "    border-bottom-color: var(--fill-color);\n",
              "    animation:\n",
              "      spin 1s steps(1) infinite;\n",
              "  }\n",
              "\n",
              "  @keyframes spin {\n",
              "    0% {\n",
              "      border-color: transparent;\n",
              "      border-bottom-color: var(--fill-color);\n",
              "      border-left-color: var(--fill-color);\n",
              "    }\n",
              "    20% {\n",
              "      border-color: transparent;\n",
              "      border-left-color: var(--fill-color);\n",
              "      border-top-color: var(--fill-color);\n",
              "    }\n",
              "    30% {\n",
              "      border-color: transparent;\n",
              "      border-left-color: var(--fill-color);\n",
              "      border-top-color: var(--fill-color);\n",
              "      border-right-color: var(--fill-color);\n",
              "    }\n",
              "    40% {\n",
              "      border-color: transparent;\n",
              "      border-right-color: var(--fill-color);\n",
              "      border-top-color: var(--fill-color);\n",
              "    }\n",
              "    60% {\n",
              "      border-color: transparent;\n",
              "      border-right-color: var(--fill-color);\n",
              "    }\n",
              "    80% {\n",
              "      border-color: transparent;\n",
              "      border-right-color: var(--fill-color);\n",
              "      border-bottom-color: var(--fill-color);\n",
              "    }\n",
              "    90% {\n",
              "      border-color: transparent;\n",
              "      border-bottom-color: var(--fill-color);\n",
              "    }\n",
              "  }\n",
              "</style>\n",
              "\n",
              "  <script>\n",
              "    async function quickchart(key) {\n",
              "      const quickchartButtonEl =\n",
              "        document.querySelector('#' + key + ' button');\n",
              "      quickchartButtonEl.disabled = true;  // To prevent multiple clicks.\n",
              "      quickchartButtonEl.classList.add('colab-df-spinner');\n",
              "      try {\n",
              "        const charts = await google.colab.kernel.invokeFunction(\n",
              "            'suggestCharts', [key], {});\n",
              "      } catch (error) {\n",
              "        console.error('Error during call to suggestCharts:', error);\n",
              "      }\n",
              "      quickchartButtonEl.classList.remove('colab-df-spinner');\n",
              "      quickchartButtonEl.classList.add('colab-df-quickchart-complete');\n",
              "    }\n",
              "    (() => {\n",
              "      let quickchartButtonEl =\n",
              "        document.querySelector('#df-50cff143-4b8e-4fbb-a451-4045c8349c4e button');\n",
              "      quickchartButtonEl.style.display =\n",
              "        google.colab.kernel.accessAllowed ? 'block' : 'none';\n",
              "    })();\n",
              "  </script>\n",
              "</div>\n",
              "\n",
              "    </div>\n",
              "  </div>\n"
            ],
            "text/plain": [
              "      Seating_Capacity  Seating_Capacity\n",
              "0                    4                 4\n",
              "1                    4                 4\n",
              "2                    4                 4\n",
              "3                    4                 4\n",
              "4                    4                 4\n",
              "...                ...               ...\n",
              "1271                 5                 5\n",
              "1272                 5                 5\n",
              "1273                 5                 5\n",
              "1274                 5                 5\n",
              "1275                 7                 7\n",
              "\n",
              "[1183 rows x 2 columns]"
            ]
          },
          "execution_count": 785,
          "metadata": {},
          "output_type": "execute_result"
        }
      ],
      "source": [
        "car['Seating_Capacity']"
      ]
    },
    {
      "cell_type": "markdown",
      "metadata": {
        "id": "DkyWZ9pe3DQ8"
      },
      "source": [
        "#No of Airbags column    \n",
        "               "
      ]
    },
    {
      "cell_type": "code",
      "execution_count": null,
      "metadata": {
        "colab": {
          "base_uri": "https://localhost:8080/"
        },
        "id": "RbL8mHrW3-J4",
        "outputId": "2dd13162-f7c8-410f-e2f9-dd5eb5b08882"
      },
      "outputs": [
        {
          "data": {
            "text/plain": [
              "<bound method Series.info of 0       NaN\n",
              "1       NaN\n",
              "2       NaN\n",
              "3       NaN\n",
              "4       NaN\n",
              "       ... \n",
              "1271    2.0\n",
              "1272    6.0\n",
              "1273    6.0\n",
              "1274    2.0\n",
              "1275    6.0\n",
              "Name: Number_of_Airbags, Length: 1183, dtype: float64>"
            ]
          },
          "execution_count": 786,
          "metadata": {},
          "output_type": "execute_result"
        }
      ],
      "source": [
        "car.Number_of_Airbags.info"
      ]
    },
    {
      "cell_type": "code",
      "execution_count": null,
      "metadata": {
        "colab": {
          "base_uri": "https://localhost:8080/"
        },
        "id": "yMEOeWd0Um64",
        "outputId": "1df40aea-bf64-4ee7-907b-76de1c4c436e"
      },
      "outputs": [
        {
          "data": {
            "text/plain": [
              "125"
            ]
          },
          "execution_count": 787,
          "metadata": {},
          "output_type": "execute_result"
        }
      ],
      "source": [
        "car['Number_of_Airbags'].isnull().sum()"
      ]
    },
    {
      "cell_type": "code",
      "execution_count": null,
      "metadata": {
        "id": "cTgmg-Vt4WLu"
      },
      "outputs": [],
      "source": [
        "car['Number_of_Airbags']=car['Number_of_Airbags'].replace(np.nan,car.Number_of_Airbags.median())"
      ]
    },
    {
      "cell_type": "code",
      "execution_count": null,
      "metadata": {
        "id": "iMDtHloJ4E9L"
      },
      "outputs": [],
      "source": [
        "car['Number_of_Airbags']=car['Number_of_Airbags'].astype(int)"
      ]
    },
    {
      "cell_type": "code",
      "execution_count": null,
      "metadata": {
        "colab": {
          "base_uri": "https://localhost:8080/"
        },
        "id": "YEdS2KIVV3WS",
        "outputId": "061ad43c-6699-4411-dd8a-a1f636934dfe"
      },
      "outputs": [
        {
          "data": {
            "text/plain": [
              "<bound method Series.info of 0       2\n",
              "1       2\n",
              "2       2\n",
              "3       2\n",
              "4       2\n",
              "       ..\n",
              "1271    2\n",
              "1272    6\n",
              "1273    6\n",
              "1274    2\n",
              "1275    6\n",
              "Name: Number_of_Airbags, Length: 1183, dtype: int64>"
            ]
          },
          "execution_count": 790,
          "metadata": {},
          "output_type": "execute_result"
        }
      ],
      "source": [
        "car.Number_of_Airbags.info"
      ]
    },
    {
      "cell_type": "markdown",
      "metadata": {
        "id": "PqUcpCqmXrt6"
      },
      "source": [
        "#Parking Assistance column"
      ]
    },
    {
      "cell_type": "code",
      "execution_count": null,
      "metadata": {
        "colab": {
          "base_uri": "https://localhost:8080/"
        },
        "id": "VOePcsdt42CT",
        "outputId": "f8b0a0d9-dde5-4b49-8635-4b24ff60a1ec"
      },
      "outputs": [
        {
          "data": {
            "text/plain": [
              "<bound method Series.info of 0                                      NaN\n",
              "1                                      NaN\n",
              "2                                      NaN\n",
              "3                                      NaN\n",
              "4                                      NaN\n",
              "                       ...                \n",
              "1271    Front and rear sensors with camera\n",
              "1272              Rear sensors with camera\n",
              "1273              Rear sensors with camera\n",
              "1274    Front and rear sensors with camera\n",
              "1275              Rear sensors with camera\n",
              "Name: Parking_Assistance, Length: 1183, dtype: object>"
            ]
          },
          "execution_count": 791,
          "metadata": {},
          "output_type": "execute_result"
        }
      ],
      "source": [
        "car.Parking_Assistance.info"
      ]
    },
    {
      "cell_type": "code",
      "execution_count": null,
      "metadata": {
        "colab": {
          "base_uri": "https://localhost:8080/"
        },
        "id": "wpXkNJGx49XC",
        "outputId": "1650096a-b553-4566-9c97-4eded121af3c"
      },
      "outputs": [
        {
          "data": {
            "text/plain": [
              "281"
            ]
          },
          "execution_count": 792,
          "metadata": {},
          "output_type": "execute_result"
        }
      ],
      "source": [
        "car.Parking_Assistance.isnull().sum()"
      ]
    },
    {
      "cell_type": "code",
      "execution_count": null,
      "metadata": {
        "id": "CrsYOZgm5J97"
      },
      "outputs": [],
      "source": [
        "car['Parking_Assistance']=car['Parking_Assistance'].replace(np.nan,'No')"
      ]
    },
    {
      "cell_type": "code",
      "execution_count": null,
      "metadata": {
        "colab": {
          "base_uri": "https://localhost:8080/"
        },
        "id": "Pk5GPR3w_RUL",
        "outputId": "6d6528b3-7b0d-4d27-887e-cc6654c6595b"
      },
      "outputs": [
        {
          "data": {
            "text/plain": [
              "0       Yes\n",
              "1       Yes\n",
              "2       Yes\n",
              "3       Yes\n",
              "4       Yes\n",
              "       ... \n",
              "1271    Yes\n",
              "1272    Yes\n",
              "1273    Yes\n",
              "1274    Yes\n",
              "1275    Yes\n",
              "Name: Child_Safety_Locks, Length: 1183, dtype: object"
            ]
          },
          "execution_count": 794,
          "metadata": {},
          "output_type": "execute_result"
        }
      ],
      "source": [
        "car.Child_Safety_Locks"
      ]
    },
    {
      "cell_type": "code",
      "execution_count": null,
      "metadata": {
        "colab": {
          "base_uri": "https://localhost:8080/"
        },
        "id": "ASIL1NDy_W1-",
        "outputId": "9b9524b4-6b9b-47c4-fc0e-0055baa9f8e4"
      },
      "outputs": [
        {
          "data": {
            "text/plain": [
              "61"
            ]
          },
          "execution_count": 795,
          "metadata": {},
          "output_type": "execute_result"
        }
      ],
      "source": [
        "car.Child_Safety_Locks.isnull().sum()"
      ]
    },
    {
      "cell_type": "code",
      "execution_count": null,
      "metadata": {
        "id": "6D4RonLIAoSw"
      },
      "outputs": [],
      "source": [
        "car['Child_Safety_Locks']=car['Child_Safety_Locks'].replace(np.nan,'No')"
      ]
    },
    {
      "cell_type": "markdown",
      "metadata": {
        "id": "AxKYqNC3BY8w"
      },
      "source": [
        "# Navigation system column      "
      ]
    },
    {
      "cell_type": "code",
      "execution_count": null,
      "metadata": {
        "colab": {
          "base_uri": "https://localhost:8080/"
        },
        "id": "S1KHKVS6CSL1",
        "outputId": "bea5f342-e218-4c48-f1a5-70ccbf0283c4"
      },
      "outputs": [
        {
          "data": {
            "text/plain": [
              "<bound method Series.info of 0       NaN\n",
              "1       NaN\n",
              "2       NaN\n",
              "3       NaN\n",
              "4       NaN\n",
              "       ... \n",
              "1271    Yes\n",
              "1272    Yes\n",
              "1273    Yes\n",
              "1274    Yes\n",
              "1275    Yes\n",
              "Name: Navigation_System, Length: 1183, dtype: object>"
            ]
          },
          "execution_count": 797,
          "metadata": {},
          "output_type": "execute_result"
        }
      ],
      "source": [
        "car.Navigation_System.info"
      ]
    },
    {
      "cell_type": "code",
      "execution_count": null,
      "metadata": {
        "id": "XBCBe5bACYmL"
      },
      "outputs": [],
      "source": [
        "car['Navigation_System']=car['Navigation_System'].replace(np.nan,'No')"
      ]
    },
    {
      "cell_type": "markdown",
      "metadata": {
        "id": "5YLQs2N0W8Rh"
      },
      "source": [
        "# Basic Warrenty column"
      ]
    },
    {
      "cell_type": "code",
      "execution_count": null,
      "metadata": {
        "colab": {
          "base_uri": "https://localhost:8080/"
        },
        "id": "usETZi6JDhFk",
        "outputId": "dcf3d178-a183-4e6a-a2d9-311ade86c753"
      },
      "outputs": [
        {
          "data": {
            "text/plain": [
              "array(['2 years /75000 Kms (years/distance whichever comes first)',\n",
              "       '2 years / Unlimited Kms',\n",
              "       '2 Years / 50,000 Kms (Whichever comes earlier)', nan,\n",
              "       '2 years /40000 Kms (years/distance whichever comes first)',\n",
              "       '2 Years / 75,000 KM (whichever is earlier)',\n",
              "       '3 years /100000 Kms (years/distance whichever comes first)',\n",
              "       '24 months /50000 Kms (whichever comes first)',\n",
              "       '2 Years / 100,000 Kms (whichever comes first)',\n",
              "       '3 Years/1,00,000 Kms (Whichever comes earlier)',\n",
              "       '2 Years / 40,000 Kms (Whichever comes earlier)',\n",
              "       '3 years / Unlimited Kms',\n",
              "       '3 Years / 100000 km (whichever comes first)',\n",
              "       '2 Years Unlimited Kilometres', '3 years/40,000 km',\n",
              "       '2 Years Warranty',\n",
              "       '4 years / 80000 Kms (years/distance whichever comes first)',\n",
              "       '2 years /1,00,000 Kms (years/distance whichever comes first)',\n",
              "       '3 years/1 lakh kms (whichever is earlier)',\n",
              "       '3 years / 100,000 Kms',\n",
              "       '2 years /50000 Kms (years/distance whichever comes first)',\n",
              "       '1 Year /Unlimited KMs', '3 Years Warranty',\n",
              "       '3 years / 100,000 Km of warranty**',\n",
              "       '2 years without mileage limit'], dtype=object)"
            ]
          },
          "execution_count": 799,
          "metadata": {},
          "output_type": "execute_result"
        }
      ],
      "source": [
        "car.Basic_Warranty.unique()"
      ]
    },
    {
      "cell_type": "code",
      "execution_count": null,
      "metadata": {
        "id": "Ql0yxoDfIlGL"
      },
      "outputs": [],
      "source": [
        "car['Basic_Warranty']=car['Basic_Warranty'].str.split('Years').str[0].str.strip()"
      ]
    },
    {
      "cell_type": "code",
      "execution_count": null,
      "metadata": {
        "id": "0pBCZIdfKoD3"
      },
      "outputs": [],
      "source": [
        "car['Basic_Warranty']=car['Basic_Warranty'].str.extract('(\\d+)').astype(float)"
      ]
    },
    {
      "cell_type": "code",
      "execution_count": null,
      "metadata": {
        "colab": {
          "base_uri": "https://localhost:8080/"
        },
        "id": "a_SjVfDXIyVz",
        "outputId": "72b47773-f7f0-4683-806d-4475ddb5cfbb"
      },
      "outputs": [
        {
          "data": {
            "text/plain": [
              "411"
            ]
          },
          "execution_count": 802,
          "metadata": {},
          "output_type": "execute_result"
        }
      ],
      "source": [
        "car.Basic_Warranty.isnull().sum()"
      ]
    },
    {
      "cell_type": "code",
      "execution_count": null,
      "metadata": {
        "id": "1NIJn85uLAAx"
      },
      "outputs": [],
      "source": [
        "car['Basic_Warranty']=car['Basic_Warranty'].replace(np.nan,car.Basic_Warranty.median())\n"
      ]
    },
    {
      "cell_type": "code",
      "execution_count": null,
      "metadata": {
        "id": "q0sOQOxaLiHO"
      },
      "outputs": [],
      "source": [
        "car['Basic_Warranty']=car['Basic_Warranty'].astype(int)"
      ]
    },
    {
      "cell_type": "code",
      "execution_count": null,
      "metadata": {
        "colab": {
          "base_uri": "https://localhost:8080/"
        },
        "id": "Y72tf1qTF7xr",
        "outputId": "29ef9ee7-24cf-42cf-e1f9-31edc168483e"
      },
      "outputs": [
        {
          "data": {
            "text/plain": [
              "0       2\n",
              "1       2\n",
              "2       2\n",
              "3       2\n",
              "4       2\n",
              "       ..\n",
              "1271    2\n",
              "1272    2\n",
              "1273    2\n",
              "1274    2\n",
              "1275    2\n",
              "Name: Basic_Warranty, Length: 1183, dtype: int64"
            ]
          },
          "execution_count": 805,
          "metadata": {},
          "output_type": "execute_result"
        }
      ],
      "source": [
        "car['Basic_Warranty']"
      ]
    },
    {
      "cell_type": "markdown",
      "metadata": {
        "id": "TVf1z7Gpsw7p"
      },
      "source": [
        "#Body Type"
      ]
    },
    {
      "cell_type": "code",
      "execution_count": null,
      "metadata": {
        "colab": {
          "base_uri": "https://localhost:8080/"
        },
        "id": "YTwW_1oBs1jR",
        "outputId": "0db2bb3a-19a3-40bc-a93e-0b24ce0762b8"
      },
      "outputs": [
        {
          "data": {
            "text/plain": [
              "6"
            ]
          },
          "execution_count": 806,
          "metadata": {},
          "output_type": "execute_result"
        }
      ],
      "source": [
        "car['Body_Type'].isnull().sum()"
      ]
    },
    {
      "cell_type": "code",
      "execution_count": null,
      "metadata": {
        "id": "o2cIv2jGt-QV"
      },
      "outputs": [],
      "source": [
        "car['Body_Type']=car['Body_Type'].replace(np.nan, 'Unknown')"
      ]
    },
    {
      "cell_type": "markdown",
      "metadata": {
        "id": "xwPQD396dg_b"
      },
      "source": [
        "#Length , Height , Width Column"
      ]
    },
    {
      "cell_type": "code",
      "execution_count": null,
      "metadata": {
        "colab": {
          "base_uri": "https://localhost:8080/"
        },
        "id": "4bbd68ybEfj6",
        "outputId": "5f84fa11-22fe-420c-a645-8c674e72b97d"
      },
      "outputs": [
        {
          "data": {
            "text/plain": [
              "0       1750.0\n",
              "1       1750.0\n",
              "2       1750.0\n",
              "3       1750.0\n",
              "4       1750.0\n",
              "         ...  \n",
              "1271    1695.0\n",
              "1272    1695.0\n",
              "1273    1695.0\n",
              "1274    1695.0\n",
              "1275    1875.0\n",
              "Name: Width, Length: 1183, dtype: float64"
            ]
          },
          "execution_count": 807,
          "metadata": {},
          "output_type": "execute_result"
        }
      ],
      "source": [
        "car['Length'] = car.Length.str.replace('mm','')\n",
        "car['Length'].astype(float)\n",
        "\n",
        "car['Width'] = car.Width.str.replace('mm','')\n",
        "car['Width'].astype(float)"
      ]
    },
    {
      "cell_type": "code",
      "execution_count": null,
      "metadata": {
        "id": "Y13yT5y4gUcK"
      },
      "outputs": [],
      "source": [
        "car['Width'] = car['Width'].replace(np.nan,car.Width.median())"
      ]
    },
    {
      "cell_type": "code",
      "execution_count": null,
      "metadata": {
        "colab": {
          "base_uri": "https://localhost:8080/"
        },
        "id": "eRD3srHAEJgB",
        "outputId": "88cd2674-b01b-4a04-82f5-1fdbfd6d2c5f"
      },
      "outputs": [
        {
          "data": {
            "text/plain": [
              "0       1652.0\n",
              "1       1652.0\n",
              "2       1652.0\n",
              "3       1652.0\n",
              "4       1652.0\n",
              "         ...  \n",
              "1271    1495.0\n",
              "1272    1495.0\n",
              "1273    1495.0\n",
              "1274    1495.0\n",
              "1275    1900.0\n",
              "Name: Height, Length: 1183, dtype: float64"
            ]
          },
          "execution_count": 809,
          "metadata": {},
          "output_type": "execute_result"
        }
      ],
      "source": [
        "car['Height'] = car.Height.str.replace('mm','')\n",
        "car['Height'].astype(float)"
      ]
    },
    {
      "cell_type": "code",
      "execution_count": null,
      "metadata": {
        "id": "Je_PQSMjgO-q"
      },
      "outputs": [],
      "source": [
        "car['Height'] = car['Height'].replace(np.nan,car.Height.median())"
      ]
    },
    {
      "cell_type": "code",
      "execution_count": null,
      "metadata": {
        "colab": {
          "base_uri": "https://localhost:8080/"
        },
        "id": "liig0g6fgCko",
        "outputId": "2bcb93d6-8cc7-4a49-f3cc-8d502ad3610c"
      },
      "outputs": [
        {
          "data": {
            "text/plain": [
              "Company                0\n",
              "Variant                0\n",
              "Ex-Showroom_Price      0\n",
              "Displacement           0\n",
              "Seating_Capacity       0\n",
              "Cylinders              0\n",
              "Fuel_System            0\n",
              "Body_Type              6\n",
              "Fuel_Tank_Capacity    53\n",
              "Fuel_Type              0\n",
              "Height                 0\n",
              "Length                 0\n",
              "Width                  0\n",
              "City_Mileage           0\n",
              "Parking_Assistance     0\n",
              "Child_Safety_Locks     0\n",
              "Seating_Capacity       0\n",
              "Basic_Warranty         0\n",
              "Number_of_Airbags      0\n",
              "Navigation_System      0\n",
              "dtype: int64"
            ]
          },
          "execution_count": 811,
          "metadata": {},
          "output_type": "execute_result"
        }
      ],
      "source": [
        "car.isnull().sum()"
      ]
    },
    {
      "cell_type": "code",
      "execution_count": null,
      "metadata": {
        "colab": {
          "base_uri": "https://localhost:8080/",
          "height": 417
        },
        "id": "it-DAJICYGRz",
        "outputId": "7d8683a8-18b5-4859-888b-f7760bf81b53"
      },
      "outputs": [
        {
          "data": {
            "text/html": [
              "\n",
              "  <div id=\"df-b85f9f6a-8832-4966-8664-ec4d1b179dd5\" class=\"colab-df-container\">\n",
              "    <div>\n",
              "<style scoped>\n",
              "    .dataframe tbody tr th:only-of-type {\n",
              "        vertical-align: middle;\n",
              "    }\n",
              "\n",
              "    .dataframe tbody tr th {\n",
              "        vertical-align: top;\n",
              "    }\n",
              "\n",
              "    .dataframe thead th {\n",
              "        text-align: right;\n",
              "    }\n",
              "</style>\n",
              "<table border=\"1\" class=\"dataframe\">\n",
              "  <thead>\n",
              "    <tr style=\"text-align: right;\">\n",
              "      <th></th>\n",
              "      <th>Company</th>\n",
              "      <th>Variant</th>\n",
              "      <th>Ex-Showroom_Price</th>\n",
              "      <th>Displacement</th>\n",
              "      <th>Seating_Capacity</th>\n",
              "      <th>Cylinders</th>\n",
              "      <th>Fuel_System</th>\n",
              "      <th>Body_Type</th>\n",
              "      <th>Fuel_Tank_Capacity</th>\n",
              "      <th>Fuel_Type</th>\n",
              "      <th>Height</th>\n",
              "      <th>Length</th>\n",
              "      <th>Width</th>\n",
              "      <th>City_Mileage</th>\n",
              "      <th>Parking_Assistance</th>\n",
              "      <th>Child_Safety_Locks</th>\n",
              "      <th>Seating_Capacity</th>\n",
              "      <th>Basic_Warranty</th>\n",
              "      <th>Number_of_Airbags</th>\n",
              "      <th>Navigation_System</th>\n",
              "    </tr>\n",
              "  </thead>\n",
              "  <tbody>\n",
              "    <tr>\n",
              "      <th>0</th>\n",
              "      <td>Tata-Nano Genx</td>\n",
              "      <td>Xt</td>\n",
              "      <td>292667</td>\n",
              "      <td>624</td>\n",
              "      <td>4</td>\n",
              "      <td>2</td>\n",
              "      <td>Injection</td>\n",
              "      <td>Hatchback</td>\n",
              "      <td>24</td>\n",
              "      <td>Petrol</td>\n",
              "      <td>1652</td>\n",
              "      <td>3164</td>\n",
              "      <td>1750</td>\n",
              "      <td>23.6</td>\n",
              "      <td>No</td>\n",
              "      <td>Yes</td>\n",
              "      <td>4</td>\n",
              "      <td>2</td>\n",
              "      <td>2</td>\n",
              "      <td>No</td>\n",
              "    </tr>\n",
              "    <tr>\n",
              "      <th>1</th>\n",
              "      <td>Tata-Nano Genx</td>\n",
              "      <td>Xe</td>\n",
              "      <td>236447</td>\n",
              "      <td>624</td>\n",
              "      <td>4</td>\n",
              "      <td>2</td>\n",
              "      <td>Injection</td>\n",
              "      <td>Hatchback</td>\n",
              "      <td>24</td>\n",
              "      <td>Petrol</td>\n",
              "      <td>1652</td>\n",
              "      <td>3164</td>\n",
              "      <td>1750</td>\n",
              "      <td>23.6</td>\n",
              "      <td>No</td>\n",
              "      <td>Yes</td>\n",
              "      <td>4</td>\n",
              "      <td>2</td>\n",
              "      <td>2</td>\n",
              "      <td>No</td>\n",
              "    </tr>\n",
              "    <tr>\n",
              "      <th>2</th>\n",
              "      <td>Tata-Nano Genx</td>\n",
              "      <td>Emax Xm</td>\n",
              "      <td>296661</td>\n",
              "      <td>624</td>\n",
              "      <td>4</td>\n",
              "      <td>2</td>\n",
              "      <td>Injection</td>\n",
              "      <td>Hatchback</td>\n",
              "      <td>15</td>\n",
              "      <td>CNG</td>\n",
              "      <td>1652</td>\n",
              "      <td>3164</td>\n",
              "      <td>1750</td>\n",
              "      <td>15.5</td>\n",
              "      <td>No</td>\n",
              "      <td>Yes</td>\n",
              "      <td>4</td>\n",
              "      <td>2</td>\n",
              "      <td>2</td>\n",
              "      <td>No</td>\n",
              "    </tr>\n",
              "    <tr>\n",
              "      <th>3</th>\n",
              "      <td>Tata-Nano Genx</td>\n",
              "      <td>Xta</td>\n",
              "      <td>334768</td>\n",
              "      <td>624</td>\n",
              "      <td>4</td>\n",
              "      <td>2</td>\n",
              "      <td>Injection</td>\n",
              "      <td>Hatchback</td>\n",
              "      <td>24</td>\n",
              "      <td>Petrol</td>\n",
              "      <td>1652</td>\n",
              "      <td>3164</td>\n",
              "      <td>1750</td>\n",
              "      <td>23.6</td>\n",
              "      <td>No</td>\n",
              "      <td>Yes</td>\n",
              "      <td>4</td>\n",
              "      <td>2</td>\n",
              "      <td>2</td>\n",
              "      <td>No</td>\n",
              "    </tr>\n",
              "    <tr>\n",
              "      <th>4</th>\n",
              "      <td>Tata-Nano Genx</td>\n",
              "      <td>Xm</td>\n",
              "      <td>272223</td>\n",
              "      <td>624</td>\n",
              "      <td>4</td>\n",
              "      <td>2</td>\n",
              "      <td>Injection</td>\n",
              "      <td>Hatchback</td>\n",
              "      <td>24</td>\n",
              "      <td>Petrol</td>\n",
              "      <td>1652</td>\n",
              "      <td>3164</td>\n",
              "      <td>1750</td>\n",
              "      <td>23.6</td>\n",
              "      <td>No</td>\n",
              "      <td>Yes</td>\n",
              "      <td>4</td>\n",
              "      <td>2</td>\n",
              "      <td>2</td>\n",
              "      <td>No</td>\n",
              "    </tr>\n",
              "  </tbody>\n",
              "</table>\n",
              "</div>\n",
              "    <div class=\"colab-df-buttons\">\n",
              "\n",
              "  <div class=\"colab-df-container\">\n",
              "    <button class=\"colab-df-convert\" onclick=\"convertToInteractive('df-b85f9f6a-8832-4966-8664-ec4d1b179dd5')\"\n",
              "            title=\"Convert this dataframe to an interactive table.\"\n",
              "            style=\"display:none;\">\n",
              "\n",
              "  <svg xmlns=\"http://www.w3.org/2000/svg\" height=\"24px\" viewBox=\"0 -960 960 960\">\n",
              "    <path d=\"M120-120v-720h720v720H120Zm60-500h600v-160H180v160Zm220 220h160v-160H400v160Zm0 220h160v-160H400v160ZM180-400h160v-160H180v160Zm440 0h160v-160H620v160ZM180-180h160v-160H180v160Zm440 0h160v-160H620v160Z\"/>\n",
              "  </svg>\n",
              "    </button>\n",
              "\n",
              "  <style>\n",
              "    .colab-df-container {\n",
              "      display:flex;\n",
              "      gap: 12px;\n",
              "    }\n",
              "\n",
              "    .colab-df-convert {\n",
              "      background-color: #E8F0FE;\n",
              "      border: none;\n",
              "      border-radius: 50%;\n",
              "      cursor: pointer;\n",
              "      display: none;\n",
              "      fill: #1967D2;\n",
              "      height: 32px;\n",
              "      padding: 0 0 0 0;\n",
              "      width: 32px;\n",
              "    }\n",
              "\n",
              "    .colab-df-convert:hover {\n",
              "      background-color: #E2EBFA;\n",
              "      box-shadow: 0px 1px 2px rgba(60, 64, 67, 0.3), 0px 1px 3px 1px rgba(60, 64, 67, 0.15);\n",
              "      fill: #174EA6;\n",
              "    }\n",
              "\n",
              "    .colab-df-buttons div {\n",
              "      margin-bottom: 4px;\n",
              "    }\n",
              "\n",
              "    [theme=dark] .colab-df-convert {\n",
              "      background-color: #3B4455;\n",
              "      fill: #D2E3FC;\n",
              "    }\n",
              "\n",
              "    [theme=dark] .colab-df-convert:hover {\n",
              "      background-color: #434B5C;\n",
              "      box-shadow: 0px 1px 3px 1px rgba(0, 0, 0, 0.15);\n",
              "      filter: drop-shadow(0px 1px 2px rgba(0, 0, 0, 0.3));\n",
              "      fill: #FFFFFF;\n",
              "    }\n",
              "  </style>\n",
              "\n",
              "    <script>\n",
              "      const buttonEl =\n",
              "        document.querySelector('#df-b85f9f6a-8832-4966-8664-ec4d1b179dd5 button.colab-df-convert');\n",
              "      buttonEl.style.display =\n",
              "        google.colab.kernel.accessAllowed ? 'block' : 'none';\n",
              "\n",
              "      async function convertToInteractive(key) {\n",
              "        const element = document.querySelector('#df-b85f9f6a-8832-4966-8664-ec4d1b179dd5');\n",
              "        const dataTable =\n",
              "          await google.colab.kernel.invokeFunction('convertToInteractive',\n",
              "                                                    [key], {});\n",
              "        if (!dataTable) return;\n",
              "\n",
              "        const docLinkHtml = 'Like what you see? Visit the ' +\n",
              "          '<a target=\"_blank\" href=https://colab.research.google.com/notebooks/data_table.ipynb>data table notebook</a>'\n",
              "          + ' to learn more about interactive tables.';\n",
              "        element.innerHTML = '';\n",
              "        dataTable['output_type'] = 'display_data';\n",
              "        await google.colab.output.renderOutput(dataTable, element);\n",
              "        const docLink = document.createElement('div');\n",
              "        docLink.innerHTML = docLinkHtml;\n",
              "        element.appendChild(docLink);\n",
              "      }\n",
              "    </script>\n",
              "  </div>\n",
              "\n",
              "\n",
              "<div id=\"df-53fff9a1-9ae0-4df5-afb5-d25641bbc1bf\">\n",
              "  <button class=\"colab-df-quickchart\" onclick=\"quickchart('df-53fff9a1-9ae0-4df5-afb5-d25641bbc1bf')\"\n",
              "            title=\"Suggest charts\"\n",
              "            style=\"display:none;\">\n",
              "\n",
              "<svg xmlns=\"http://www.w3.org/2000/svg\" height=\"24px\"viewBox=\"0 0 24 24\"\n",
              "     width=\"24px\">\n",
              "    <g>\n",
              "        <path d=\"M19 3H5c-1.1 0-2 .9-2 2v14c0 1.1.9 2 2 2h14c1.1 0 2-.9 2-2V5c0-1.1-.9-2-2-2zM9 17H7v-7h2v7zm4 0h-2V7h2v10zm4 0h-2v-4h2v4z\"/>\n",
              "    </g>\n",
              "</svg>\n",
              "  </button>\n",
              "\n",
              "<style>\n",
              "  .colab-df-quickchart {\n",
              "      --bg-color: #E8F0FE;\n",
              "      --fill-color: #1967D2;\n",
              "      --hover-bg-color: #E2EBFA;\n",
              "      --hover-fill-color: #174EA6;\n",
              "      --disabled-fill-color: #AAA;\n",
              "      --disabled-bg-color: #DDD;\n",
              "  }\n",
              "\n",
              "  [theme=dark] .colab-df-quickchart {\n",
              "      --bg-color: #3B4455;\n",
              "      --fill-color: #D2E3FC;\n",
              "      --hover-bg-color: #434B5C;\n",
              "      --hover-fill-color: #FFFFFF;\n",
              "      --disabled-bg-color: #3B4455;\n",
              "      --disabled-fill-color: #666;\n",
              "  }\n",
              "\n",
              "  .colab-df-quickchart {\n",
              "    background-color: var(--bg-color);\n",
              "    border: none;\n",
              "    border-radius: 50%;\n",
              "    cursor: pointer;\n",
              "    display: none;\n",
              "    fill: var(--fill-color);\n",
              "    height: 32px;\n",
              "    padding: 0;\n",
              "    width: 32px;\n",
              "  }\n",
              "\n",
              "  .colab-df-quickchart:hover {\n",
              "    background-color: var(--hover-bg-color);\n",
              "    box-shadow: 0 1px 2px rgba(60, 64, 67, 0.3), 0 1px 3px 1px rgba(60, 64, 67, 0.15);\n",
              "    fill: var(--button-hover-fill-color);\n",
              "  }\n",
              "\n",
              "  .colab-df-quickchart-complete:disabled,\n",
              "  .colab-df-quickchart-complete:disabled:hover {\n",
              "    background-color: var(--disabled-bg-color);\n",
              "    fill: var(--disabled-fill-color);\n",
              "    box-shadow: none;\n",
              "  }\n",
              "\n",
              "  .colab-df-spinner {\n",
              "    border: 2px solid var(--fill-color);\n",
              "    border-color: transparent;\n",
              "    border-bottom-color: var(--fill-color);\n",
              "    animation:\n",
              "      spin 1s steps(1) infinite;\n",
              "  }\n",
              "\n",
              "  @keyframes spin {\n",
              "    0% {\n",
              "      border-color: transparent;\n",
              "      border-bottom-color: var(--fill-color);\n",
              "      border-left-color: var(--fill-color);\n",
              "    }\n",
              "    20% {\n",
              "      border-color: transparent;\n",
              "      border-left-color: var(--fill-color);\n",
              "      border-top-color: var(--fill-color);\n",
              "    }\n",
              "    30% {\n",
              "      border-color: transparent;\n",
              "      border-left-color: var(--fill-color);\n",
              "      border-top-color: var(--fill-color);\n",
              "      border-right-color: var(--fill-color);\n",
              "    }\n",
              "    40% {\n",
              "      border-color: transparent;\n",
              "      border-right-color: var(--fill-color);\n",
              "      border-top-color: var(--fill-color);\n",
              "    }\n",
              "    60% {\n",
              "      border-color: transparent;\n",
              "      border-right-color: var(--fill-color);\n",
              "    }\n",
              "    80% {\n",
              "      border-color: transparent;\n",
              "      border-right-color: var(--fill-color);\n",
              "      border-bottom-color: var(--fill-color);\n",
              "    }\n",
              "    90% {\n",
              "      border-color: transparent;\n",
              "      border-bottom-color: var(--fill-color);\n",
              "    }\n",
              "  }\n",
              "</style>\n",
              "\n",
              "  <script>\n",
              "    async function quickchart(key) {\n",
              "      const quickchartButtonEl =\n",
              "        document.querySelector('#' + key + ' button');\n",
              "      quickchartButtonEl.disabled = true;  // To prevent multiple clicks.\n",
              "      quickchartButtonEl.classList.add('colab-df-spinner');\n",
              "      try {\n",
              "        const charts = await google.colab.kernel.invokeFunction(\n",
              "            'suggestCharts', [key], {});\n",
              "      } catch (error) {\n",
              "        console.error('Error during call to suggestCharts:', error);\n",
              "      }\n",
              "      quickchartButtonEl.classList.remove('colab-df-spinner');\n",
              "      quickchartButtonEl.classList.add('colab-df-quickchart-complete');\n",
              "    }\n",
              "    (() => {\n",
              "      let quickchartButtonEl =\n",
              "        document.querySelector('#df-53fff9a1-9ae0-4df5-afb5-d25641bbc1bf button');\n",
              "      quickchartButtonEl.style.display =\n",
              "        google.colab.kernel.accessAllowed ? 'block' : 'none';\n",
              "    })();\n",
              "  </script>\n",
              "</div>\n",
              "\n",
              "    </div>\n",
              "  </div>\n"
            ],
            "text/plain": [
              "          Company  Variant  Ex-Showroom_Price  Displacement  Seating_Capacity  \\\n",
              "0  Tata-Nano Genx       Xt             292667           624                 4   \n",
              "1  Tata-Nano Genx       Xe             236447           624                 4   \n",
              "2  Tata-Nano Genx  Emax Xm             296661           624                 4   \n",
              "3  Tata-Nano Genx      Xta             334768           624                 4   \n",
              "4  Tata-Nano Genx       Xm             272223           624                 4   \n",
              "\n",
              "   Cylinders Fuel_System  Body_Type Fuel_Tank_Capacity Fuel_Type Height  \\\n",
              "0          2   Injection  Hatchback                24     Petrol  1652    \n",
              "1          2   Injection  Hatchback                24     Petrol  1652    \n",
              "2          2   Injection  Hatchback                15        CNG  1652    \n",
              "3          2   Injection  Hatchback                24     Petrol  1652    \n",
              "4          2   Injection  Hatchback                24     Petrol  1652    \n",
              "\n",
              "  Length  Width  City_Mileage Parking_Assistance Child_Safety_Locks  \\\n",
              "0  3164   1750           23.6                 No                Yes   \n",
              "1  3164   1750           23.6                 No                Yes   \n",
              "2  3164   1750           15.5                 No                Yes   \n",
              "3  3164   1750           23.6                 No                Yes   \n",
              "4  3164   1750           23.6                 No                Yes   \n",
              "\n",
              "   Seating_Capacity  Basic_Warranty  Number_of_Airbags Navigation_System  \n",
              "0                 4               2                  2                No  \n",
              "1                 4               2                  2                No  \n",
              "2                 4               2                  2                No  \n",
              "3                 4               2                  2                No  \n",
              "4                 4               2                  2                No  "
            ]
          },
          "execution_count": 812,
          "metadata": {},
          "output_type": "execute_result"
        }
      ],
      "source": [
        "car.head()"
      ]
    },
    {
      "cell_type": "code",
      "execution_count": null,
      "metadata": {
        "colab": {
          "base_uri": "https://localhost:8080/"
        },
        "id": "NDwXH2NoizZK",
        "outputId": "46a80011-3b55-4ffd-9297-2ee349b7ddcd"
      },
      "outputs": [
        {
          "name": "stdout",
          "output_type": "stream",
          "text": [
            "<class 'pandas.core.frame.DataFrame'>\n",
            "Int64Index: 1183 entries, 0 to 1275\n",
            "Data columns (total 20 columns):\n",
            " #   Column              Non-Null Count  Dtype  \n",
            "---  ------              --------------  -----  \n",
            " 0   Company             1183 non-null   object \n",
            " 1   Variant             1183 non-null   object \n",
            " 2   Ex-Showroom_Price   1183 non-null   int64  \n",
            " 3   Displacement        1183 non-null   int64  \n",
            " 4   Seating_Capacity    1183 non-null   int64  \n",
            " 5   Cylinders           1183 non-null   int64  \n",
            " 6   Fuel_System         1183 non-null   object \n",
            " 7   Body_Type           1177 non-null   object \n",
            " 8   Fuel_Tank_Capacity  1130 non-null   object \n",
            " 9   Fuel_Type           1183 non-null   object \n",
            " 10  Height              1183 non-null   object \n",
            " 11  Length              1183 non-null   object \n",
            " 12  Width               1183 non-null   object \n",
            " 13  City_Mileage        1183 non-null   float64\n",
            " 14  Parking_Assistance  1183 non-null   object \n",
            " 15  Child_Safety_Locks  1183 non-null   object \n",
            " 16  Seating_Capacity    1183 non-null   int64  \n",
            " 17  Basic_Warranty      1183 non-null   int64  \n",
            " 18  Number_of_Airbags   1183 non-null   int64  \n",
            " 19  Navigation_System   1183 non-null   object \n",
            "dtypes: float64(1), int64(7), object(12)\n",
            "memory usage: 194.1+ KB\n"
          ]
        }
      ],
      "source": [
        "car.info(verbose=True)"
      ]
    },
    {
      "cell_type": "markdown",
      "metadata": {
        "id": "yb2_gH6WHx5-"
      },
      "source": [
        "#Visualization"
      ]
    },
    {
      "cell_type": "code",
      "execution_count": null,
      "metadata": {
        "id": "l3wA2QSBiNZq"
      },
      "outputs": [],
      "source": [
        "import seaborn as sns\n",
        "import matplotlib.pyplot as plt"
      ]
    },
    {
      "cell_type": "markdown",
      "metadata": {
        "id": "NJMGLVYphgfE"
      },
      "source": [
        "* Histogram"
      ]
    },
    {
      "cell_type": "code",
      "execution_count": null,
      "metadata": {
        "colab": {
          "base_uri": "https://localhost:8080/",
          "height": 472
        },
        "id": "pRnfGJOIhg_S",
        "outputId": "08a68e56-520f-467e-e171-a6551fad4180"
      },
      "outputs": [
        {
          "data": {
            "image/png": "[encoded data removed]",
            "text/plain": [
              "<Figure size 640x480 with 1 Axes>"
            ]
          },
          "metadata": {},
          "output_type": "display_data"
        }
      ],
      "source": [
        "plt.ticklabel_format(style='plain')\n",
        "sns.histplot(car['Ex-Showroom_Price'], kde=True)\n",
        "plt.xlabel('Ex-showroom Price')\n",
        "plt.title('Histogram Plot')\n",
        "plt.show()"
      ]
    },
    {
      "cell_type": "markdown",
      "metadata": {
        "id": "3IqI7GnypN7y"
      },
      "source": [
        "* Bar Chart\n"
      ]
    },
    {
      "cell_type": "code",
      "execution_count": null,
      "metadata": {
        "colab": {
          "base_uri": "https://localhost:8080/",
          "height": 575
        },
        "id": "frdU9JPTjWFh",
        "outputId": "3a07a91b-a823-4a9e-a01e-ce8335b9a2b8"
      },
      "outputs": [
        {
          "data": {
            "image/png": "[encoded data removed]",
            "text/plain": [
              "<Figure size 1100x600 with 1 Axes>"
            ]
          },
          "metadata": {},
          "output_type": "display_data"
        }
      ],
      "source": [
        "plt.figure(figsize=(11,6))\n",
        "sns.countplot(data=car, x='Fuel_Type',color='Red')\n",
        "plt.title('Cars count by engine fuel type',fontsize=18)\n",
        "plt.xlabel('Fuel Type', fontsize=16)\n",
        "plt.ylabel('Count');"
      ]
    },
    {
      "cell_type": "code",
      "execution_count": null,
      "metadata": {
        "colab": {
          "base_uri": "https://localhost:8080/"
        },
        "id": "zNvgz8fqqZhi",
        "outputId": "5a79319d-45bc-4ca2-a07a-5cfb96f6d9e8"
      },
      "outputs": [
        {
          "data": {
            "text/plain": [
              "Tata-Nexon              24\n",
              "Mahindra-Kuv100 Nxt     22\n",
              "Jeep-Compass            21\n",
              "Mahindra-Xuv500         21\n",
              "Honda-Amaze             20\n",
              "Hyundai-Creta           18\n",
              "Kia-Seltos              16\n",
              "Toyota-Innova Crysta    16\n",
              "Toyota-Etios Liva       14\n",
              "Maruti Suzuki-Ciaz      14\n",
              "Name: Company, dtype: int64"
            ]
          },
          "execution_count": 817,
          "metadata": {},
          "output_type": "execute_result"
        }
      ],
      "source": [
        "top_company = car.Company.value_counts().head(10)\n",
        "top_company"
      ]
    },
    {
      "cell_type": "code",
      "execution_count": null,
      "metadata": {
        "colab": {
          "base_uri": "https://localhost:8080/",
          "height": 469
        },
        "id": "fosJ883EqjSU",
        "outputId": "addf9b3f-3953-469e-b0ef-6f245d18cc4b"
      },
      "outputs": [
        {
          "data": {
            "image/png": "[encoded data removed]",
            "text/plain": [
              "<Figure size 600x600 with 1 Axes>"
            ]
          },
          "metadata": {},
          "output_type": "display_data"
        }
      ],
      "source": [
        "plt.figure(figsize=(6,6))\n",
        "plt.pie(x=top_company,labels=['Tata-Nexon','Mahindra-Kuv100 Nxt','Jeep-Compass','Mahindra-Xuv500',\n",
        "'Honda-Amaze','Hyundai-Creta','Kia-Seltos','Toyota-Innova Crysta','Maruti Suzuki-Swift','Maruti Suzuki-Ciaz'],autopct='%1.1f%%')\n",
        "plt.title('Top 10 Cars')\n",
        "plt.tight_layout()"
      ]
    },
    {
      "cell_type": "code",
      "execution_count": null,
      "metadata": {
        "colab": {
          "base_uri": "https://localhost:8080/",
          "height": 607
        },
        "id": "Lf8_gs3_rChy",
        "outputId": "c6db76b2-94dd-44c8-fa8e-60a06eda63b4"
      },
      "outputs": [
        {
          "data": {
            "image/png": "[encoded data removed]",
            "text/plain": [
              "<Figure size 600x600 with 1 Axes>"
            ]
          },
          "metadata": {},
          "output_type": "display_data"
        }
      ],
      "source": [
        "plt.figure(figsize=(6,6))\n",
        "sns.countplot(x=car['Number_of_Airbags'])\n",
        "plt.title('Most number of airbags used')\n",
        "plt.tight_layout()"
      ]
    },
    {
      "cell_type": "code",
      "execution_count": null,
      "metadata": {
        "colab": {
          "base_uri": "https://localhost:8080/",
          "height": 564
        },
        "id": "3mqWCqhY0OoT",
        "outputId": "e758c6ef-804e-4826-f9c9-64d9ef7b8fa9"
      },
      "outputs": [
        {
          "data": {
            "image/png": "[encoded data removed]",
            "text/plain": [
              "<Figure size 1000x600 with 1 Axes>"
            ]
          },
          "metadata": {},
          "output_type": "display_data"
        }
      ],
      "source": [
        "# Boxplot\n",
        "plt.figure(figsize=(10, 6))\n",
        "sns.boxplot(x=car['Ex-Showroom_Price'])\n",
        "plt.title('Boxplot of Prices')\n",
        "plt.xlabel('Ex-Showroom_Price')\n",
        "plt.show()"
      ]
    },
    {
      "cell_type": "markdown",
      "metadata": {
        "id": "qcJL_MpD9SPz"
      },
      "source": [
        "# Bivariate Analysis:\n"
      ]
    },
    {
      "cell_type": "code",
      "execution_count": null,
      "metadata": {
        "colab": {
          "base_uri": "https://localhost:8080/",
          "height": 355
        },
        "id": "r3w592QCrkai",
        "outputId": "41ff369b-ece2-4365-cc5e-0b1fcb3a5c22"
      },
      "outputs": [
        {
          "name": "stderr",
          "output_type": "stream",
          "text": [
            "<ipython-input-821-a722eb746ce6>:1: FutureWarning: The default value of numeric_only in DataFrame.corr is deprecated. In a future version, it will default to False. Select only valid columns or specify the value of numeric_only to silence this warning.\n",
            "  corr = car.corr()\n"
          ]
        },
        {
          "data": {
            "text/html": [
              "\n",
              "  <div id=\"df-ee388e6f-5b6a-4fa7-bb79-f0797623e588\" class=\"colab-df-container\">\n",
              "    <div>\n",
              "<style scoped>\n",
              "    .dataframe tbody tr th:only-of-type {\n",
              "        vertical-align: middle;\n",
              "    }\n",
              "\n",
              "    .dataframe tbody tr th {\n",
              "        vertical-align: top;\n",
              "    }\n",
              "\n",
              "    .dataframe thead th {\n",
              "        text-align: right;\n",
              "    }\n",
              "</style>\n",
              "<table border=\"1\" class=\"dataframe\">\n",
              "  <thead>\n",
              "    <tr style=\"text-align: right;\">\n",
              "      <th></th>\n",
              "      <th>Ex-Showroom_Price</th>\n",
              "      <th>Displacement</th>\n",
              "      <th>Seating_Capacity</th>\n",
              "      <th>Cylinders</th>\n",
              "      <th>City_Mileage</th>\n",
              "      <th>Seating_Capacity</th>\n",
              "      <th>Basic_Warranty</th>\n",
              "      <th>Number_of_Airbags</th>\n",
              "    </tr>\n",
              "  </thead>\n",
              "  <tbody>\n",
              "    <tr>\n",
              "      <th>Ex-Showroom_Price</th>\n",
              "      <td>1.000000</td>\n",
              "      <td>0.761696</td>\n",
              "      <td>-0.315788</td>\n",
              "      <td>0.789381</td>\n",
              "      <td>-0.009306</td>\n",
              "      <td>-0.315788</td>\n",
              "      <td>-0.019288</td>\n",
              "      <td>0.333991</td>\n",
              "    </tr>\n",
              "    <tr>\n",
              "      <th>Displacement</th>\n",
              "      <td>0.761696</td>\n",
              "      <td>1.000000</td>\n",
              "      <td>-0.138090</td>\n",
              "      <td>0.856807</td>\n",
              "      <td>-0.011581</td>\n",
              "      <td>-0.138090</td>\n",
              "      <td>-0.013752</td>\n",
              "      <td>0.548646</td>\n",
              "    </tr>\n",
              "    <tr>\n",
              "      <th>Seating_Capacity</th>\n",
              "      <td>-0.315788</td>\n",
              "      <td>-0.138090</td>\n",
              "      <td>1.000000</td>\n",
              "      <td>-0.315328</td>\n",
              "      <td>-0.007238</td>\n",
              "      <td>1.000000</td>\n",
              "      <td>-0.014142</td>\n",
              "      <td>-0.024025</td>\n",
              "    </tr>\n",
              "    <tr>\n",
              "      <th>Cylinders</th>\n",
              "      <td>0.789381</td>\n",
              "      <td>0.856807</td>\n",
              "      <td>-0.315328</td>\n",
              "      <td>1.000000</td>\n",
              "      <td>-0.007510</td>\n",
              "      <td>-0.315328</td>\n",
              "      <td>-0.020840</td>\n",
              "      <td>0.448532</td>\n",
              "    </tr>\n",
              "    <tr>\n",
              "      <th>City_Mileage</th>\n",
              "      <td>-0.009306</td>\n",
              "      <td>-0.011581</td>\n",
              "      <td>-0.007238</td>\n",
              "      <td>-0.007510</td>\n",
              "      <td>1.000000</td>\n",
              "      <td>-0.007238</td>\n",
              "      <td>-0.006534</td>\n",
              "      <td>-0.019219</td>\n",
              "    </tr>\n",
              "    <tr>\n",
              "      <th>Seating_Capacity</th>\n",
              "      <td>-0.315788</td>\n",
              "      <td>-0.138090</td>\n",
              "      <td>1.000000</td>\n",
              "      <td>-0.315328</td>\n",
              "      <td>-0.007238</td>\n",
              "      <td>1.000000</td>\n",
              "      <td>-0.014142</td>\n",
              "      <td>-0.024025</td>\n",
              "    </tr>\n",
              "    <tr>\n",
              "      <th>Basic_Warranty</th>\n",
              "      <td>-0.019288</td>\n",
              "      <td>-0.013752</td>\n",
              "      <td>-0.014142</td>\n",
              "      <td>-0.020840</td>\n",
              "      <td>-0.006534</td>\n",
              "      <td>-0.014142</td>\n",
              "      <td>1.000000</td>\n",
              "      <td>-0.067612</td>\n",
              "    </tr>\n",
              "    <tr>\n",
              "      <th>Number_of_Airbags</th>\n",
              "      <td>0.333991</td>\n",
              "      <td>0.548646</td>\n",
              "      <td>-0.024025</td>\n",
              "      <td>0.448532</td>\n",
              "      <td>-0.019219</td>\n",
              "      <td>-0.024025</td>\n",
              "      <td>-0.067612</td>\n",
              "      <td>1.000000</td>\n",
              "    </tr>\n",
              "  </tbody>\n",
              "</table>\n",
              "</div>\n",
              "    <div class=\"colab-df-buttons\">\n",
              "\n",
              "  <div class=\"colab-df-container\">\n",
              "    <button class=\"colab-df-convert\" onclick=\"convertToInteractive('df-ee388e6f-5b6a-4fa7-bb79-f0797623e588')\"\n",
              "            title=\"Convert this dataframe to an interactive table.\"\n",
              "            style=\"display:none;\">\n",
              "\n",
              "  <svg xmlns=\"http://www.w3.org/2000/svg\" height=\"24px\" viewBox=\"0 -960 960 960\">\n",
              "    <path d=\"M120-120v-720h720v720H120Zm60-500h600v-160H180v160Zm220 220h160v-160H400v160Zm0 220h160v-160H400v160ZM180-400h160v-160H180v160Zm440 0h160v-160H620v160ZM180-180h160v-160H180v160Zm440 0h160v-160H620v160Z\"/>\n",
              "  </svg>\n",
              "    </button>\n",
              "\n",
              "  <style>\n",
              "    .colab-df-container {\n",
              "      display:flex;\n",
              "      gap: 12px;\n",
              "    }\n",
              "\n",
              "    .colab-df-convert {\n",
              "      background-color: #E8F0FE;\n",
              "      border: none;\n",
              "      border-radius: 50%;\n",
              "      cursor: pointer;\n",
              "      display: none;\n",
              "      fill: #1967D2;\n",
              "      height: 32px;\n",
              "      padding: 0 0 0 0;\n",
              "      width: 32px;\n",
              "    }\n",
              "\n",
              "    .colab-df-convert:hover {\n",
              "      background-color: #E2EBFA;\n",
              "      box-shadow: 0px 1px 2px rgba(60, 64, 67, 0.3), 0px 1px 3px 1px rgba(60, 64, 67, 0.15);\n",
              "      fill: #174EA6;\n",
              "    }\n",
              "\n",
              "    .colab-df-buttons div {\n",
              "      margin-bottom: 4px;\n",
              "    }\n",
              "\n",
              "    [theme=dark] .colab-df-convert {\n",
              "      background-color: #3B4455;\n",
              "      fill: #D2E3FC;\n",
              "    }\n",
              "\n",
              "    [theme=dark] .colab-df-convert:hover {\n",
              "      background-color: #434B5C;\n",
              "      box-shadow: 0px 1px 3px 1px rgba(0, 0, 0, 0.15);\n",
              "      filter: drop-shadow(0px 1px 2px rgba(0, 0, 0, 0.3));\n",
              "      fill: #FFFFFF;\n",
              "    }\n",
              "  </style>\n",
              "\n",
              "    <script>\n",
              "      const buttonEl =\n",
              "        document.querySelector('#df-ee388e6f-5b6a-4fa7-bb79-f0797623e588 button.colab-df-convert');\n",
              "      buttonEl.style.display =\n",
              "        google.colab.kernel.accessAllowed ? 'block' : 'none';\n",
              "\n",
              "      async function convertToInteractive(key) {\n",
              "        const element = document.querySelector('#df-ee388e6f-5b6a-4fa7-bb79-f0797623e588');\n",
              "        const dataTable =\n",
              "          await google.colab.kernel.invokeFunction('convertToInteractive',\n",
              "                                                    [key], {});\n",
              "        if (!dataTable) return;\n",
              "\n",
              "        const docLinkHtml = 'Like what you see? Visit the ' +\n",
              "          '<a target=\"_blank\" href=https://colab.research.google.com/notebooks/data_table.ipynb>data table notebook</a>'\n",
              "          + ' to learn more about interactive tables.';\n",
              "        element.innerHTML = '';\n",
              "        dataTable['output_type'] = 'display_data';\n",
              "        await google.colab.output.renderOutput(dataTable, element);\n",
              "        const docLink = document.createElement('div');\n",
              "        docLink.innerHTML = docLinkHtml;\n",
              "        element.appendChild(docLink);\n",
              "      }\n",
              "    </script>\n",
              "  </div>\n",
              "\n",
              "\n",
              "<div id=\"df-a617f5f6-10aa-4e4c-b47d-d6ddb6913237\">\n",
              "  <button class=\"colab-df-quickchart\" onclick=\"quickchart('df-a617f5f6-10aa-4e4c-b47d-d6ddb6913237')\"\n",
              "            title=\"Suggest charts\"\n",
              "            style=\"display:none;\">\n",
              "\n",
              "<svg xmlns=\"http://www.w3.org/2000/svg\" height=\"24px\"viewBox=\"0 0 24 24\"\n",
              "     width=\"24px\">\n",
              "    <g>\n",
              "        <path d=\"M19 3H5c-1.1 0-2 .9-2 2v14c0 1.1.9 2 2 2h14c1.1 0 2-.9 2-2V5c0-1.1-.9-2-2-2zM9 17H7v-7h2v7zm4 0h-2V7h2v10zm4 0h-2v-4h2v4z\"/>\n",
              "    </g>\n",
              "</svg>\n",
              "  </button>\n",
              "\n",
              "<style>\n",
              "  .colab-df-quickchart {\n",
              "      --bg-color: #E8F0FE;\n",
              "      --fill-color: #1967D2;\n",
              "      --hover-bg-color: #E2EBFA;\n",
              "      --hover-fill-color: #174EA6;\n",
              "      --disabled-fill-color: #AAA;\n",
              "      --disabled-bg-color: #DDD;\n",
              "  }\n",
              "\n",
              "  [theme=dark] .colab-df-quickchart {\n",
              "      --bg-color: #3B4455;\n",
              "      --fill-color: #D2E3FC;\n",
              "      --hover-bg-color: #434B5C;\n",
              "      --hover-fill-color: #FFFFFF;\n",
              "      --disabled-bg-color: #3B4455;\n",
              "      --disabled-fill-color: #666;\n",
              "  }\n",
              "\n",
              "  .colab-df-quickchart {\n",
              "    background-color: var(--bg-color);\n",
              "    border: none;\n",
              "    border-radius: 50%;\n",
              "    cursor: pointer;\n",
              "    display: none;\n",
              "    fill: var(--fill-color);\n",
              "    height: 32px;\n",
              "    padding: 0;\n",
              "    width: 32px;\n",
              "  }\n",
              "\n",
              "  .colab-df-quickchart:hover {\n",
              "    background-color: var(--hover-bg-color);\n",
              "    box-shadow: 0 1px 2px rgba(60, 64, 67, 0.3), 0 1px 3px 1px rgba(60, 64, 67, 0.15);\n",
              "    fill: var(--button-hover-fill-color);\n",
              "  }\n",
              "\n",
              "  .colab-df-quickchart-complete:disabled,\n",
              "  .colab-df-quickchart-complete:disabled:hover {\n",
              "    background-color: var(--disabled-bg-color);\n",
              "    fill: var(--disabled-fill-color);\n",
              "    box-shadow: none;\n",
              "  }\n",
              "\n",
              "  .colab-df-spinner {\n",
              "    border: 2px solid var(--fill-color);\n",
              "    border-color: transparent;\n",
              "    border-bottom-color: var(--fill-color);\n",
              "    animation:\n",
              "      spin 1s steps(1) infinite;\n",
              "  }\n",
              "\n",
              "  @keyframes spin {\n",
              "    0% {\n",
              "      border-color: transparent;\n",
              "      border-bottom-color: var(--fill-color);\n",
              "      border-left-color: var(--fill-color);\n",
              "    }\n",
              "    20% {\n",
              "      border-color: transparent;\n",
              "      border-left-color: var(--fill-color);\n",
              "      border-top-color: var(--fill-color);\n",
              "    }\n",
              "    30% {\n",
              "      border-color: transparent;\n",
              "      border-left-color: var(--fill-color);\n",
              "      border-top-color: var(--fill-color);\n",
              "      border-right-color: var(--fill-color);\n",
              "    }\n",
              "    40% {\n",
              "      border-color: transparent;\n",
              "      border-right-color: var(--fill-color);\n",
              "      border-top-color: var(--fill-color);\n",
              "    }\n",
              "    60% {\n",
              "      border-color: transparent;\n",
              "      border-right-color: var(--fill-color);\n",
              "    }\n",
              "    80% {\n",
              "      border-color: transparent;\n",
              "      border-right-color: var(--fill-color);\n",
              "      border-bottom-color: var(--fill-color);\n",
              "    }\n",
              "    90% {\n",
              "      border-color: transparent;\n",
              "      border-bottom-color: var(--fill-color);\n",
              "    }\n",
              "  }\n",
              "</style>\n",
              "\n",
              "  <script>\n",
              "    async function quickchart(key) {\n",
              "      const quickchartButtonEl =\n",
              "        document.querySelector('#' + key + ' button');\n",
              "      quickchartButtonEl.disabled = true;  // To prevent multiple clicks.\n",
              "      quickchartButtonEl.classList.add('colab-df-spinner');\n",
              "      try {\n",
              "        const charts = await google.colab.kernel.invokeFunction(\n",
              "            'suggestCharts', [key], {});\n",
              "      } catch (error) {\n",
              "        console.error('Error during call to suggestCharts:', error);\n",
              "      }\n",
              "      quickchartButtonEl.classList.remove('colab-df-spinner');\n",
              "      quickchartButtonEl.classList.add('colab-df-quickchart-complete');\n",
              "    }\n",
              "    (() => {\n",
              "      let quickchartButtonEl =\n",
              "        document.querySelector('#df-a617f5f6-10aa-4e4c-b47d-d6ddb6913237 button');\n",
              "      quickchartButtonEl.style.display =\n",
              "        google.colab.kernel.accessAllowed ? 'block' : 'none';\n",
              "    })();\n",
              "  </script>\n",
              "</div>\n",
              "\n",
              "  <div id=\"id_8a4f27c7-ae20-4faf-8906-ebe3fef955eb\">\n",
              "    <style>\n",
              "      .colab-df-generate {\n",
              "        background-color: #E8F0FE;\n",
              "        border: none;\n",
              "        border-radius: 50%;\n",
              "        cursor: pointer;\n",
              "        display: none;\n",
              "        fill: #1967D2;\n",
              "        height: 32px;\n",
              "        padding: 0 0 0 0;\n",
              "        width: 32px;\n",
              "      }\n",
              "\n",
              "      .colab-df-generate:hover {\n",
              "        background-color: #E2EBFA;\n",
              "        box-shadow: 0px 1px 2px rgba(60, 64, 67, 0.3), 0px 1px 3px 1px rgba(60, 64, 67, 0.15);\n",
              "        fill: #174EA6;\n",
              "      }\n",
              "\n",
              "      [theme=dark] .colab-df-generate {\n",
              "        background-color: #3B4455;\n",
              "        fill: #D2E3FC;\n",
              "      }\n",
              "\n",
              "      [theme=dark] .colab-df-generate:hover {\n",
              "        background-color: #434B5C;\n",
              "        box-shadow: 0px 1px 3px 1px rgba(0, 0, 0, 0.15);\n",
              "        filter: drop-shadow(0px 1px 2px rgba(0, 0, 0, 0.3));\n",
              "        fill: #FFFFFF;\n",
              "      }\n",
              "    </style>\n",
              "    <button class=\"colab-df-generate\" onclick=\"generateWithVariable('corr')\"\n",
              "            title=\"Generate code using this dataframe.\"\n",
              "            style=\"display:none;\">\n",
              "\n",
              "  <svg xmlns=\"http://www.w3.org/2000/svg\" height=\"24px\"viewBox=\"0 0 24 24\"\n",
              "       width=\"24px\">\n",
              "    <path d=\"M7,19H8.4L18.45,9,17,7.55,7,17.6ZM5,21V16.75L18.45,3.32a2,2,0,0,1,2.83,0l1.4,1.43a1.91,1.91,0,0,1,.58,1.4,1.91,1.91,0,0,1-.58,1.4L9.25,21ZM18.45,9,17,7.55Zm-12,3A5.31,5.31,0,0,0,4.9,8.1,5.31,5.31,0,0,0,1,6.5,5.31,5.31,0,0,0,4.9,4.9,5.31,5.31,0,0,0,6.5,1,5.31,5.31,0,0,0,8.1,4.9,5.31,5.31,0,0,0,12,6.5,5.46,5.46,0,0,0,6.5,12Z\"/>\n",
              "  </svg>\n",
              "    </button>\n",
              "    <script>\n",
              "      (() => {\n",
              "      const buttonEl =\n",
              "        document.querySelector('#id_8a4f27c7-ae20-4faf-8906-ebe3fef955eb button.colab-df-generate');\n",
              "      buttonEl.style.display =\n",
              "        google.colab.kernel.accessAllowed ? 'block' : 'none';\n",
              "\n",
              "      buttonEl.onclick = () => {\n",
              "        google.colab.notebook.generateWithVariable('corr');\n",
              "      }\n",
              "      })();\n",
              "    </script>\n",
              "  </div>\n",
              "\n",
              "    </div>\n",
              "  </div>\n"
            ],
            "text/plain": [
              "                   Ex-Showroom_Price  Displacement  Seating_Capacity  \\\n",
              "Ex-Showroom_Price           1.000000      0.761696         -0.315788   \n",
              "Displacement                0.761696      1.000000         -0.138090   \n",
              "Seating_Capacity           -0.315788     -0.138090          1.000000   \n",
              "Cylinders                   0.789381      0.856807         -0.315328   \n",
              "City_Mileage               -0.009306     -0.011581         -0.007238   \n",
              "Seating_Capacity           -0.315788     -0.138090          1.000000   \n",
              "Basic_Warranty             -0.019288     -0.013752         -0.014142   \n",
              "Number_of_Airbags           0.333991      0.548646         -0.024025   \n",
              "\n",
              "                   Cylinders  City_Mileage  Seating_Capacity  Basic_Warranty  \\\n",
              "Ex-Showroom_Price   0.789381     -0.009306         -0.315788       -0.019288   \n",
              "Displacement        0.856807     -0.011581         -0.138090       -0.013752   \n",
              "Seating_Capacity   -0.315328     -0.007238          1.000000       -0.014142   \n",
              "Cylinders           1.000000     -0.007510         -0.315328       -0.020840   \n",
              "City_Mileage       -0.007510      1.000000         -0.007238       -0.006534   \n",
              "Seating_Capacity   -0.315328     -0.007238          1.000000       -0.014142   \n",
              "Basic_Warranty     -0.020840     -0.006534         -0.014142        1.000000   \n",
              "Number_of_Airbags   0.448532     -0.019219         -0.024025       -0.067612   \n",
              "\n",
              "                   Number_of_Airbags  \n",
              "Ex-Showroom_Price           0.333991  \n",
              "Displacement                0.548646  \n",
              "Seating_Capacity           -0.024025  \n",
              "Cylinders                   0.448532  \n",
              "City_Mileage               -0.019219  \n",
              "Seating_Capacity           -0.024025  \n",
              "Basic_Warranty             -0.067612  \n",
              "Number_of_Airbags           1.000000  "
            ]
          },
          "execution_count": 821,
          "metadata": {},
          "output_type": "execute_result"
        }
      ],
      "source": [
        "corr = car.corr()\n",
        "corr"
      ]
    },
    {
      "cell_type": "code",
      "execution_count": null,
      "metadata": {
        "colab": {
          "base_uri": "https://localhost:8080/",
          "height": 838
        },
        "id": "xEIasPnp_Ezc",
        "outputId": "efdb9701-2df2-4823-8658-d5a156bbbe71"
      },
      "outputs": [
        {
          "data": {
            "text/plain": [
              "Text(0.5, 1.0, 'Correlation Matrix')"
            ]
          },
          "execution_count": 822,
          "metadata": {},
          "output_type": "execute_result"
        },
        {
          "data": {
            "image/png": "[encoded data removed]",
            "text/plain": [
              "<Figure size 800x800 with 2 Axes>"
            ]
          },
          "metadata": {},
          "output_type": "display_data"
        }
      ],
      "source": [
        "plt.figure(figsize=(8,8))\n",
        "sns.heatmap(corr, annot=True, cmap='coolwarm', fmt='.2f')\n",
        "plt.title('Correlation Matrix')"
      ]
    },
    {
      "cell_type": "code",
      "execution_count": null,
      "metadata": {
        "colab": {
          "background_save": true
        },
        "id": "OS8dTUVhsZ55",
        "outputId": "e0c1d2ea-79d2-4d9d-fbe9-59b1298b24c6"
      },
      "outputs": [
        {
          "data": {
            "text/plain": [
              "Text(0.5, 1.0, 'Bar plot of Body Type wrt Price')"
            ]
          },
          "execution_count": 824,
          "metadata": {},
          "output_type": "execute_result"
        },
        {
          "data": {
            "image/png": "[encoded data removed]",
            "text/plain": [
              "<Figure size 1000x600 with 1 Axes>"
            ]
          },
          "metadata": {},
          "output_type": "display_data"
        }
      ],
      "source": [
        "plt.figure(figsize=(10,6))\n",
        "sns.barplot(data=car.head(250), x='Body_Type', y='Ex-Showroom_Price', hue='Fuel_Type')\n",
        "plt.title('Bar plot of Body Type wrt Price')"
      ]
    },
    {
      "cell_type": "code",
      "source": [
        "#Categorical Plots\n",
        "\n",
        "plt.figure(figsize=(10,6))\n",
        "sns.boxplot(x='Cylinders', y='Ex-Showroom_Price', data=car)\n",
        "plt.title('Price vs Cylinders')\n",
        "plt.xlabel('Cylinders')\n",
        "plt.ylabel('Price')\n",
        "plt.tight_layout()"
      ],
      "metadata": {
        "colab": {
          "base_uri": "https://localhost:8080/",
          "height": 607
        },
        "id": "Vx-gZ7hNv8rC",
        "outputId": "db3c1383-9c44-4822-d441-3dcc042d44a1"
      },
      "execution_count": 831,
      "outputs": [
        {
          "output_type": "display_data",
          "data": {
            "text/plain": [
              "<Figure size 1000x600 with 1 Axes>"
            ],
            "image/png": "[encoded data removed]"
          },
          "metadata": {}
        }
      ]
    }
  ],
  "metadata": {
    "colab": {
      "collapsed_sections": [
        "HG00N7y9OPoq",
        "z6ReeF2isbRE",
        "aZ1qlgLmhHDV",
        "Gi_qz8yFhMfg",
        "3K60Qx2bhXG7",
        "3o4VUGk3pYS0",
        "DkyWZ9pe3DQ8",
        "PqUcpCqmXrt6",
        "AxKYqNC3BY8w"
      ],
      "provenance": []
    },
    "kernelspec": {
      "display_name": "Python 3",
      "name": "python3"
    },
    "language_info": {
      "name": "python"
    }
  },
  "nbformat": 4,
  "nbformat_minor": 0
}